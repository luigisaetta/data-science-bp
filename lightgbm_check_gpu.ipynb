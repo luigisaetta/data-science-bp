{
 "cells": [
  {
   "cell_type": "markdown",
   "id": "c7ec53a0",
   "metadata": {},
   "source": [
    "### Check LightGBM GPU\n",
    "\n",
    "Check if LightGBM as been compiled with GPU support\n",
    "\n",
    "* inspired by: https://github.com/microsoft/LightGBM/issues/3939"
   ]
  },
  {
   "cell_type": "code",
   "execution_count": 17,
   "id": "a9ef2464",
   "metadata": {},
   "outputs": [],
   "source": [
    "import lightgbm\n",
    "import numpy as np"
   ]
  },
  {
   "cell_type": "code",
   "execution_count": 18,
   "id": "a741e3a6",
   "metadata": {},
   "outputs": [],
   "source": [
    "def check_gpu_support():\n",
    "    data = np.random.rand(50, 2)\n",
    "    label = np.random.randint(2, size=50)\n",
    "    train_data = lightgbm.Dataset(data, label=label)\n",
    "    params = {\"num_iterations\": 1, \"device\": \"gpu\"}\n",
    "    try:\n",
    "        gbm = lightgbm.train(params, train_set=train_data)\n",
    "        print(\"OK\")\n",
    "    except Exception as e:\n",
    "        print(e)"
   ]
  },
  {
   "cell_type": "code",
   "execution_count": 19,
   "id": "5163818e",
   "metadata": {},
   "outputs": [
    {
     "name": "stdout",
     "output_type": "stream",
     "text": [
      "GPU Tree Learner was not enabled in this build.\n",
      "Please recompile with CMake option -DUSE_GPU=1\n"
     ]
    }
   ],
   "source": [
    "check_gpu_support()"
   ]
  },
  {
   "cell_type": "code",
   "execution_count": null,
   "id": "e4d41605",
   "metadata": {},
   "outputs": [],
   "source": []
  }
 ],
 "metadata": {
  "kernelspec": {
   "display_name": "Python [conda env:generalml_p37_gpu_v1]",
   "language": "python",
   "name": "conda-env-generalml_p37_gpu_v1-py"
  },
  "language_info": {
   "codemirror_mode": {
    "name": "ipython",
    "version": 3
   },
   "file_extension": ".py",
   "mimetype": "text/x-python",
   "name": "python",
   "nbconvert_exporter": "python",
   "pygments_lexer": "ipython3",
   "version": "3.7.12"
  }
 },
 "nbformat": 4,
 "nbformat_minor": 5
}
