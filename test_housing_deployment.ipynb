{
 "cells": [
  {
   "cell_type": "markdown",
   "id": "487c6c08",
   "metadata": {},
   "source": [
    "### Test Housing REST Service"
   ]
  },
  {
   "cell_type": "code",
   "execution_count": 6,
   "id": "6c99e173",
   "metadata": {},
   "outputs": [],
   "source": [
    "import requests\n",
    "import oci\n",
    "from oci.signer import Signer\n",
    "\n",
    "import json\n",
    "import pandas as pd\n",
    "import numpy as np\n",
    "from pandas.api.types import is_numeric_dtype\n",
    "\n",
    "# the dataset used for the example\n",
    "from sklearn.datasets import fetch_california_housing\n",
    "\n",
    "from sklearn.model_selection import train_test_split"
   ]
  },
  {
   "cell_type": "markdown",
   "id": "5bd8a907",
   "metadata": {},
   "source": [
    "### Prepare input data"
   ]
  },
  {
   "cell_type": "code",
   "execution_count": 7,
   "id": "6d24d97b",
   "metadata": {},
   "outputs": [],
   "source": [
    "# prepare some input data. We will take from the dataset\n",
    "# apply the same transformation done on the training set\n",
    "# load the dataset\n",
    "housing = fetch_california_housing(as_frame=True)\n",
    "\n",
    "orig_df = housing.frame\n",
    "\n",
    "# In this example I'll use all the columns (ex MedHouseVal) as features, except Lat, Long, to simplify\n",
    "\n",
    "TARGET = \"MedHouseVal\"\n",
    "all_cols = list(orig_df.columns)\n",
    "cols_to_drop = ['Latitude', 'Longitude']\n",
    "\n",
    "cat_cols = ['HouseAge']\n",
    "\n",
    "# take care, I have sorted\n",
    "FEATURES = sorted(list(set(all_cols) - set([TARGET])- set(cols_to_drop)))\n",
    "\n",
    "used_df = orig_df.copy()\n",
    "\n",
    "used_df['HouseAge'] = used_df['HouseAge'] - 1.\n",
    "\n",
    "used_df['HouseAge'] = used_df['HouseAge'].astype(int)\n",
    "used_df['HouseAge'] = used_df['HouseAge'].astype(\"category\")\n",
    "\n",
    "# let's make a simple train/test split\n",
    "X = used_df[FEATURES].values\n",
    "y = used_df[TARGET].values\n",
    "\n",
    "TEST_SIZE = 0.2\n",
    "\n",
    "X_train, X_test, y_train, y_test = train_test_split(X, y, test_size=TEST_SIZE, random_state=1)\n",
    "\n",
    "# we will use X_test\n",
    "START = 10\n",
    "END = 20\n",
    "\n",
    "x_input = X_test[START:END]\n",
    "y_expected = y_test[START:END]"
   ]
  },
  {
   "cell_type": "code",
   "execution_count": 8,
   "id": "a18a59f1",
   "metadata": {},
   "outputs": [],
   "source": [
    "ENDPOINT = 'https://put_it_here'"
   ]
  },
  {
   "cell_type": "code",
   "execution_count": 9,
   "id": "11a0941d",
   "metadata": {},
   "outputs": [
    {
     "name": "stdout",
     "output_type": "stream",
     "text": [
      "https://modeldeployment.eu-frankfurt-1.oci.customer-oci.com/ocid1.datasciencemodeldeployment.oc1.eu-frankfurt-1.amaaaaaa7egirmqapzid7qmu4lt4d42bi64fj3yckciuaapogns7b6se6vga/predict\n"
     ]
    }
   ],
   "source": [
    "print(ENDPOINT)"
   ]
  },
  {
   "cell_type": "code",
   "execution_count": 10,
   "id": "f2393276",
   "metadata": {},
   "outputs": [
    {
     "name": "stdout",
     "output_type": "stream",
     "text": [
      "These are the predictions from the deployed model:\n",
      "{'code': 'NotAuthorizedOrNotFound', 'message': 'Authorization failed or requested resource not found.'}\n",
      "\n",
      "Expected values:\n",
      "[2.938 0.975 0.635 3.149 0.924 1.172 4.85  1.419 1.885 2.286]\n"
     ]
    }
   ],
   "source": [
    "# again using RP\n",
    "rps = oci.auth.signers.get_resource_principals_signer()\n",
    "\n",
    "# payload goes here\n",
    "body = json.dumps(x_input.tolist()) \n",
    "\n",
    "print(\"These are the predictions from the deployed model:\")\n",
    "print(requests.post(ENDPOINT, json=body, auth=rps).json())\n",
    "print()\n",
    "\n",
    "print('Expected values:')\n",
    "print(y_expected)"
   ]
  },
  {
   "cell_type": "code",
   "execution_count": null,
   "id": "4a629483",
   "metadata": {},
   "outputs": [],
   "source": []
  }
 ],
 "metadata": {
  "kernelspec": {
   "display_name": "Python [conda env:generalml_p37_cpu_v1]",
   "language": "python",
   "name": "conda-env-generalml_p37_cpu_v1-py"
  },
  "language_info": {
   "codemirror_mode": {
    "name": "ipython",
    "version": 3
   },
   "file_extension": ".py",
   "mimetype": "text/x-python",
   "name": "python",
   "nbconvert_exporter": "python",
   "pygments_lexer": "ipython3",
   "version": "3.7.12"
  }
 },
 "nbformat": 4,
 "nbformat_minor": 5
}
