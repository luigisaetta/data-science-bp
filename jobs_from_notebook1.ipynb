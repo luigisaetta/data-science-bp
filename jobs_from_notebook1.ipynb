{
 "cells": [
  {
   "cell_type": "markdown",
   "id": "3a6828d7",
   "metadata": {},
   "source": [
    "### Launch a jobs already created from a NB\n",
    "\n",
    "We have created a JOBS and we want to launch this JOBS from a Notebook. Here is an example of the code.\n",
    "You need to fond the OCID of the created JOBS."
   ]
  },
  {
   "cell_type": "code",
   "execution_count": 1,
   "id": "3eeed73b",
   "metadata": {},
   "outputs": [],
   "source": [
    "import ads\n",
    "\n",
    "from ads.jobs import Job\n",
    "from ads.jobs import DataScienceJob\n",
    "from ads.jobs import ScriptRuntime"
   ]
  },
  {
   "cell_type": "code",
   "execution_count": 2,
   "id": "f74b3c68",
   "metadata": {},
   "outputs": [
    {
     "name": "stdout",
     "output_type": "stream",
     "text": [
      "2.6.1\n"
     ]
    }
   ],
   "source": [
    "print(ads.__version__)"
   ]
  },
  {
   "cell_type": "code",
   "execution_count": 7,
   "id": "e43eb89c",
   "metadata": {},
   "outputs": [
    {
     "name": "stderr",
     "output_type": "stream",
     "text": [
      "WARNING:root:~/.oci/config file not exists, default value oci.config.DEFAULT_LOCATION used instead\n"
     ]
    }
   ],
   "source": [
    "# è importante settare RP\n",
    "ads.set_auth(auth='resource_principal')"
   ]
  },
  {
   "cell_type": "markdown",
   "id": "eee7217b",
   "metadata": {},
   "source": [
    "### Reload JOB configuration from its OCID (got from Cloud UI)"
   ]
  },
  {
   "cell_type": "code",
   "execution_count": 8,
   "id": "02b1c000",
   "metadata": {},
   "outputs": [],
   "source": [
    "# you need this from UI\n",
    "JOB_OCID = \"ocid1.datasciencejob.oc1.eu-frankfurt-1.amaaaaaangencdyae7mpaj5kbzxaj6wlizf7zfldtlhn6msfvrzan2nwipja\"\n",
    "\n",
    "job = Job.from_datascience_job(JOB_OCID)"
   ]
  },
  {
   "cell_type": "code",
   "execution_count": 9,
   "id": "62023ce3",
   "metadata": {},
   "outputs": [
    {
     "data": {
      "text/plain": [
       "kind: job\n",
       "spec:\n",
       "  id: ocid1.datasciencejob.oc1.eu-frankfurt-1.amaaaaaangencdyae7mpaj5kbzxaj6wlizf7zfldtlhn6msfvrzan2nwipja\n",
       "  infrastructure:\n",
       "    kind: infrastructure\n",
       "    spec:\n",
       "      blockStorageSize: 50\n",
       "      compartmentId: ocid1.compartment.oc1..aaaaaaaag2cpni5qj6li5ny6ehuahhepbpveopobooayqfeudqygdtfe6h3a\n",
       "      displayName: jobs_custom_conda01\n",
       "      jobInfrastructureType: ME_STANDALONE\n",
       "      jobType: DEFAULT\n",
       "      logGroupId: ocid1.loggroup.oc1.eu-frankfurt-1.amaaaaaangencdyazs4l4rzrzsarlej6mqlwlbz6bmnx4adwdlssveam2jaa\n",
       "      logId: ocid1.log.oc1.eu-frankfurt-1.amaaaaaangencdya47httqmxyiew5tkxa6l7gekev2ljpasixuhmp2fa3v5q\n",
       "      projectId: ocid1.datascienceproject.oc1.eu-frankfurt-1.amaaaaaangencdya23mxim62zd4hasv5t44pjinkhpqj3ip6hti4ftrxja7a\n",
       "      shapeName: VM.Standard2.1\n",
       "    type: dataScienceJob\n",
       "  name: jobs_custom_conda01\n",
       "  runtime:\n",
       "    kind: runtime\n",
       "    spec:\n",
       "      env:\n",
       "      - name: CONDA_ENV_TYPE\n",
       "        value: published\n",
       "      - name: CONDA_ENV_REGION\n",
       "        value: eu-frankfurt-1\n",
       "      - name: CONDA_ENV_NAMESPACE\n",
       "        value: frqap2zhtzbe\n",
       "      - name: CONDA_ENV_BUCKET\n",
       "        value: custom_conda_envs\n",
       "      - name: CONDA_ENV_OBJECT_NAME\n",
       "        value: conda_environments/cpu/generalml_p37_cpu_v1_adsnew/1.0/generalml_p37_cpu_v1_adsnewv1_0\n",
       "      scriptPathURI: test_ads.py\n",
       "    type: script"
      ]
     },
     "execution_count": 9,
     "metadata": {},
     "output_type": "execute_result"
    }
   ],
   "source": [
    "job"
   ]
  },
  {
   "cell_type": "code",
   "execution_count": 10,
   "id": "c44e8815",
   "metadata": {},
   "outputs": [],
   "source": [
    "# lo eseguo di nuovo\n",
    "job_run = job.run(name=\"jobs_custom_conda01_run02\")"
   ]
  },
  {
   "cell_type": "code",
   "execution_count": 12,
   "id": "5cc31b43",
   "metadata": {},
   "outputs": [
    {
     "name": "stdout",
     "output_type": "stream",
     "text": [
      "Job OCID: ocid1.datasciencejob.oc1.eu-frankfurt-1.amaaaaaangencdyae7mpaj5kbzxaj6wlizf7zfldtlhn6msfvrzan2nwipja\n",
      "Job Run OCID: ocid1.datasciencejobrun.oc1.eu-frankfurt-1.amaaaaaangencdyah6til5rdq6gyzwc5oxi4hznyvaihdbpbdm7ivzot6iqa\n",
      "2022-06-05 08:26:23 - Job Run ACCEPTED\n",
      "2022-06-05 08:26:27 - Job Run ACCEPTED, Infrastructure provisioning.\n",
      "2022-06-05 08:27:44 - Job Run ACCEPTED, Infrastructure provisioned.\n",
      "2022-06-05 08:28:00 - Job Run ACCEPTED, Job run bootstrap starting.\n",
      "2022-06-05 08:32:03 - Job Run ACCEPTED, Job run bootstrap complete. Artifact execution starting.\n",
      "2022-06-05 08:32:07 - Job Run IN_PROGRESS, Job run artifact execution in progress.\n",
      "2022-06-05 08:32:11 - Matplotlib is building the font cache; this may take a moment.\n",
      "2022-06-05 08:32:22 - Execution correctly terminated!\n",
      "2022-06-05 08:32:22 - 2.6.1\n",
      "2022-06-05 08:32:22 - Testing ads version...\n",
      "2022-06-05 08:32:40.410000+00:00 - Job Run SUCCEEDED, Job run artifact execution in progress.\n"
     ]
    },
    {
     "data": {
      "text/plain": [
       "compartmentId: ocid1.compartment.oc1..aaaaaaaag2cpni5qj6li5ny6ehuahhepbpveopobooayqfeudqygdtfe6h3a\n",
       "createdBy: ocid1.datasciencenotebooksession.oc1.eu-frankfurt-1.amaaaaaangencdyaryutsmez2rznw7xalkqmpqce3vkjqgmt2kqnv5uggy7q\n",
       "definedTags:\n",
       "  default-tags:\n",
       "    CreatedBy: ocid1.datasciencenotebooksession.oc1.eu-frankfurt-1.amaaaaaangencdyaryutsmez2rznw7xalkqmpqce3vkjqgmt2kqnv5uggy7q\n",
       "displayName: jobs_custom_conda01_run02\n",
       "id: ocid1.datasciencejobrun.oc1.eu-frankfurt-1.amaaaaaangencdyah6til5rdq6gyzwc5oxi4hznyvaihdbpbdm7ivzot6iqa\n",
       "jobConfigurationOverrideDetails:\n",
       "  jobType: DEFAULT\n",
       "jobId: ocid1.datasciencejob.oc1.eu-frankfurt-1.amaaaaaangencdyae7mpaj5kbzxaj6wlizf7zfldtlhn6msfvrzan2nwipja\n",
       "jobInfrastructureConfigurationDetails:\n",
       "  blockStorageSizeInGBs: 50\n",
       "  jobInfrastructureType: ME_STANDALONE\n",
       "  shapeName: VM.Standard2.1\n",
       "lifecycleDetails: Job run artifact execution in progress.\n",
       "lifecycleState: SUCCEEDED\n",
       "logDetails:\n",
       "  logGroupId: ocid1.loggroup.oc1.eu-frankfurt-1.amaaaaaangencdyazs4l4rzrzsarlej6mqlwlbz6bmnx4adwdlssveam2jaa\n",
       "  logId: ocid1.log.oc1.eu-frankfurt-1.amaaaaaangencdya47httqmxyiew5tkxa6l7gekev2ljpasixuhmp2fa3v5q\n",
       "projectId: ocid1.datascienceproject.oc1.eu-frankfurt-1.amaaaaaangencdya23mxim62zd4hasv5t44pjinkhpqj3ip6hti4ftrxja7a\n",
       "timeAccepted: '2022-06-05T08:26:13.577000Z'\n",
       "timeFinished: '2022-06-05T08:32:40.410000Z'\n",
       "timeStarted: '2022-06-05T08:32:06.639000Z'"
      ]
     },
     "execution_count": 12,
     "metadata": {},
     "output_type": "execute_result"
    }
   ],
   "source": [
    "# in questo modo posso monitorare l'esecuzione del JOBS\n",
    "job_run.watch()"
   ]
  },
  {
   "cell_type": "code",
   "execution_count": null,
   "id": "d50cdf93",
   "metadata": {},
   "outputs": [],
   "source": []
  }
 ],
 "metadata": {
  "kernelspec": {
   "display_name": "Python [conda env:generalml_p37_cpu_v1_adsnewv1_0]",
   "language": "python",
   "name": "conda-env-generalml_p37_cpu_v1_adsnewv1_0-py"
  },
  "language_info": {
   "codemirror_mode": {
    "name": "ipython",
    "version": 3
   },
   "file_extension": ".py",
   "mimetype": "text/x-python",
   "name": "python",
   "nbconvert_exporter": "python",
   "pygments_lexer": "ipython3",
   "version": "3.7.12"
  }
 },
 "nbformat": 4,
 "nbformat_minor": 5
}
