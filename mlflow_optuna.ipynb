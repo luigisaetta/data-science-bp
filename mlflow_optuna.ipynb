{
 "cells": [
  {
   "cell_type": "markdown",
   "id": "0f9423d9",
   "metadata": {},
   "source": [
    "### MLFlow and Optuna\n",
    "In this Notebook we show how to use **Optuna** for hyper-parameters optimization and how to track the results of experiments inside **MLFlow**\n",
    "\n",
    "* env used: generalml_p37_gpu_v1\n",
    "* works also with CPU\n",
    "* requires: **pip install mlflow**"
   ]
  },
  {
   "cell_type": "code",
   "execution_count": 1,
   "id": "098db0ef",
   "metadata": {},
   "outputs": [],
   "source": [
    "import os\n",
    "\n",
    "import pandas as pd\n",
    "import numpy as np\n",
    "\n",
    "import optuna\n",
    "import mlflow\n",
    "\n",
    "# using a myconfig.py file I avoid to show passwords in the NB\n",
    "from myconfig import config"
   ]
  },
  {
   "cell_type": "code",
   "execution_count": 3,
   "id": "89177775",
   "metadata": {},
   "outputs": [],
   "source": [
    "# used ony as an example\n",
    "from sklearn.ensemble import RandomForestClassifier\n",
    "from sklearn.datasets import load_breast_cancer\n",
    "from sklearn.model_selection import cross_validate"
   ]
  },
  {
   "cell_type": "code",
   "execution_count": 4,
   "id": "0b3f8588",
   "metadata": {},
   "outputs": [],
   "source": [
    "# as dataset for the example of ML training we're suing Wisconsin Breast Cancer dataset\n",
    "# data can be loaded from sklearn\n",
    "cancer = load_breast_cancer()\n",
    "\n",
    "# load in Pandas DataFrame\n",
    "df = pd.DataFrame(\n",
    "    np.c_[cancer[\"data\"], cancer[\"target\"]],\n",
    "    columns=np.append(cancer[\"feature_names\"], [\"target\"]),\n",
    ")"
   ]
  },
  {
   "cell_type": "code",
   "execution_count": 5,
   "id": "e9345882",
   "metadata": {},
   "outputs": [],
   "source": [
    "TARGET = \"target\"\n",
    "\n",
    "# let's choose only some of the column\n",
    "FEATURES = [\"mean radius\", \"mean concavity\", \"mean symmetry\", \"mean fractal dimension\"]\n",
    "\n",
    "X = df[FEATURES].values\n",
    "y = df[TARGET].values"
   ]
  },
  {
   "cell_type": "code",
   "execution_count": 6,
   "id": "376efa37",
   "metadata": {},
   "outputs": [],
   "source": [
    "#\n",
    "# Here we load the configuration to connect to MLFlow Tracking Server\n",
    "#\n",
    "\n",
    "# also the tracking server uri is in the myconfig.py file\n",
    "TRACK_SERVER_URI = config[\"TRACK_SERVER_URI\"]\n",
    "\n",
    "# the key for succesfull auth is to set these two variables\n",
    "# see documentation in https://www.mlflow.org/docs/latest/tracking.html\n",
    "os.environ['MLFLOW_TRACKING_USERNAME'] = config[\"MLFLOW_TRACKING_USERNAME\"]\n",
    "os.environ['MLFLOW_TRACKING_PASSWORD'] = config['MLFLOW_TRACKING_PASSWORD']"
   ]
  },
  {
   "cell_type": "code",
   "execution_count": 7,
   "id": "89af6707",
   "metadata": {},
   "outputs": [
    {
     "name": "stderr",
     "output_type": "stream",
     "text": [
      "2022/02/16 07:37:24 INFO mlflow.tracking.fluent: Experiment with name 'exp31' does not exist. Creating a new experiment.\n"
     ]
    }
   ],
   "source": [
    "# initialize and set experiment ID\n",
    "mlflow.set_tracking_uri(TRACK_SERVER_URI)\n",
    "\n",
    "EXP_NAME = \"exp31\"\n",
    "\n",
    "exp_id = mlflow.set_experiment(EXP_NAME)"
   ]
  },
  {
   "cell_type": "code",
   "execution_count": 8,
   "id": "58bf136d",
   "metadata": {},
   "outputs": [],
   "source": [
    "#\n",
    "# Here we define what we do using Optuna\n",
    "#\n",
    "def objective(trial):\n",
    "    with mlflow.start_run():\n",
    "        \n",
    "        # tuning on max_depth, n_estimators for the example\n",
    "        params = {\n",
    "            \"max_depth\" : trial.suggest_int(\"max_depth\", 2, 10),\n",
    "            \"n_estimators\" : trial.suggest_int(\"n_estimators\", 10, 100, step=10),\n",
    "            \"max_leaf_nodes\" : trial.suggest_int(\"max_leaf_nodes\", 2, 10)\n",
    "        }\n",
    "        \n",
    "        # logging to MLFlow\n",
    "        mlflow.log_params(params)\n",
    "        \n",
    "        # as a test using RF classifier\n",
    "        clf = RandomForestClassifier(random_state=0, **params)\n",
    "        \n",
    "        # using sklearn Kfold CV, accuracy as score metric\n",
    "        scores = cross_validate(clf, X, y, cv=5, scoring = \"accuracy\", \n",
    "                                return_train_score=True)\n",
    "        \n",
    "        # we do an avg of the test set scores\n",
    "        acc = round(np.mean(scores['test_score']), 3)\n",
    "        \n",
    "         # logging to MLFlow\n",
    "        mlflow.log_metric(\"acc\", acc)\n",
    "        \n",
    "        mlflow.end_run()\n",
    "    \n",
    "    return acc"
   ]
  },
  {
   "cell_type": "code",
   "execution_count": 9,
   "id": "39fea5e2",
   "metadata": {},
   "outputs": [
    {
     "name": "stderr",
     "output_type": "stream",
     "text": [
      "\u001b[32m[I 2022-02-16 07:37:34,898]\u001b[0m A new study created in memory with name: mlflow-optuna-1\u001b[0m\n",
      "\u001b[32m[I 2022-02-16 07:37:35,973]\u001b[0m Trial 0 finished with value: 0.907 and parameters: {'max_depth': 9, 'n_estimators': 40, 'max_leaf_nodes': 3}. Best is trial 0 with value: 0.907.\u001b[0m\n",
      "\u001b[32m[I 2022-02-16 07:37:37,227]\u001b[0m Trial 1 finished with value: 0.921 and parameters: {'max_depth': 9, 'n_estimators': 80, 'max_leaf_nodes': 9}. Best is trial 1 with value: 0.921.\u001b[0m\n",
      "\u001b[32m[I 2022-02-16 07:37:37,696]\u001b[0m Trial 2 finished with value: 0.877 and parameters: {'max_depth': 2, 'n_estimators': 20, 'max_leaf_nodes': 2}. Best is trial 1 with value: 0.921.\u001b[0m\n",
      "\u001b[32m[I 2022-02-16 07:37:38,378]\u001b[0m Trial 3 finished with value: 0.919 and parameters: {'max_depth': 7, 'n_estimators': 40, 'max_leaf_nodes': 8}. Best is trial 1 with value: 0.921.\u001b[0m\n",
      "\u001b[32m[I 2022-02-16 07:37:38,621]\u001b[0m Trial 4 finished with value: 0.877 and parameters: {'max_depth': 7, 'n_estimators': 10, 'max_leaf_nodes': 2}. Best is trial 1 with value: 0.921.\u001b[0m\n",
      "\u001b[32m[I 2022-02-16 07:37:40,118]\u001b[0m Trial 5 finished with value: 0.921 and parameters: {'max_depth': 8, 'n_estimators': 100, 'max_leaf_nodes': 8}. Best is trial 1 with value: 0.921.\u001b[0m\n",
      "\u001b[32m[I 2022-02-16 07:37:40,634]\u001b[0m Trial 6 finished with value: 0.916 and parameters: {'max_depth': 3, 'n_estimators': 30, 'max_leaf_nodes': 7}. Best is trial 1 with value: 0.921.\u001b[0m\n",
      "\u001b[32m[I 2022-02-16 07:37:41,174]\u001b[0m Trial 7 finished with value: 0.917 and parameters: {'max_depth': 3, 'n_estimators': 30, 'max_leaf_nodes': 8}. Best is trial 1 with value: 0.921.\u001b[0m\n",
      "\u001b[32m[I 2022-02-16 07:37:41,683]\u001b[0m Trial 8 finished with value: 0.917 and parameters: {'max_depth': 7, 'n_estimators': 30, 'max_leaf_nodes': 5}. Best is trial 1 with value: 0.921.\u001b[0m\n",
      "\u001b[32m[I 2022-02-16 07:37:42,354]\u001b[0m Trial 9 finished with value: 0.919 and parameters: {'max_depth': 7, 'n_estimators': 40, 'max_leaf_nodes': 8}. Best is trial 1 with value: 0.921.\u001b[0m\n",
      "\u001b[32m[I 2022-02-16 07:37:43,579]\u001b[0m Trial 10 finished with value: 0.921 and parameters: {'max_depth': 10, 'n_estimators': 80, 'max_leaf_nodes': 10}. Best is trial 1 with value: 0.921.\u001b[0m\n",
      "\u001b[32m[I 2022-02-16 07:37:45,057]\u001b[0m Trial 11 finished with value: 0.923 and parameters: {'max_depth': 9, 'n_estimators': 100, 'max_leaf_nodes': 10}. Best is trial 11 with value: 0.923.\u001b[0m\n",
      "\u001b[32m[I 2022-02-16 07:37:46,323]\u001b[0m Trial 12 finished with value: 0.921 and parameters: {'max_depth': 10, 'n_estimators': 80, 'max_leaf_nodes': 10}. Best is trial 11 with value: 0.923.\u001b[0m\n",
      "\u001b[32m[I 2022-02-16 07:37:47,801]\u001b[0m Trial 13 finished with value: 0.926 and parameters: {'max_depth': 5, 'n_estimators': 100, 'max_leaf_nodes': 10}. Best is trial 13 with value: 0.926.\u001b[0m\n",
      "\u001b[32m[I 2022-02-16 07:37:49,285]\u001b[0m Trial 14 finished with value: 0.921 and parameters: {'max_depth': 5, 'n_estimators': 100, 'max_leaf_nodes': 5}. Best is trial 13 with value: 0.926.\u001b[0m\n",
      "\u001b[32m[I 2022-02-16 07:37:50,226]\u001b[0m Trial 15 finished with value: 0.923 and parameters: {'max_depth': 5, 'n_estimators': 60, 'max_leaf_nodes': 10}. Best is trial 13 with value: 0.926.\u001b[0m\n",
      "\u001b[32m[I 2022-02-16 07:37:51,544]\u001b[0m Trial 16 finished with value: 0.919 and parameters: {'max_depth': 5, 'n_estimators': 90, 'max_leaf_nodes': 6}. Best is trial 13 with value: 0.926.\u001b[0m\n",
      "\u001b[32m[I 2022-02-16 07:37:52,481]\u001b[0m Trial 17 finished with value: 0.924 and parameters: {'max_depth': 4, 'n_estimators': 60, 'max_leaf_nodes': 9}. Best is trial 13 with value: 0.926.\u001b[0m\n",
      "\u001b[32m[I 2022-02-16 07:37:53,415]\u001b[0m Trial 18 finished with value: 0.924 and parameters: {'max_depth': 4, 'n_estimators': 60, 'max_leaf_nodes': 9}. Best is trial 13 with value: 0.926.\u001b[0m\n",
      "\u001b[32m[I 2022-02-16 07:37:54,486]\u001b[0m Trial 19 finished with value: 0.926 and parameters: {'max_depth': 4, 'n_estimators': 70, 'max_leaf_nodes': 9}. Best is trial 13 with value: 0.926.\u001b[0m\n",
      "\u001b[32m[I 2022-02-16 07:37:55,550]\u001b[0m Trial 20 finished with value: 0.923 and parameters: {'max_depth': 6, 'n_estimators': 70, 'max_leaf_nodes': 6}. Best is trial 13 with value: 0.926.\u001b[0m\n",
      "\u001b[32m[I 2022-02-16 07:37:56,354]\u001b[0m Trial 21 finished with value: 0.923 and parameters: {'max_depth': 4, 'n_estimators': 50, 'max_leaf_nodes': 9}. Best is trial 13 with value: 0.926.\u001b[0m\n",
      "\u001b[32m[I 2022-02-16 07:37:57,437]\u001b[0m Trial 22 finished with value: 0.926 and parameters: {'max_depth': 4, 'n_estimators': 70, 'max_leaf_nodes': 9}. Best is trial 13 with value: 0.926.\u001b[0m\n",
      "\u001b[32m[I 2022-02-16 07:37:58,506]\u001b[0m Trial 23 finished with value: 0.91 and parameters: {'max_depth': 2, 'n_estimators': 70, 'max_leaf_nodes': 7}. Best is trial 13 with value: 0.926.\u001b[0m\n",
      "\u001b[32m[I 2022-02-16 07:37:59,819]\u001b[0m Trial 24 finished with value: 0.919 and parameters: {'max_depth': 3, 'n_estimators': 90, 'max_leaf_nodes': 7}. Best is trial 13 with value: 0.926.\u001b[0m\n",
      "\u001b[32m[I 2022-02-16 07:38:00,906]\u001b[0m Trial 25 finished with value: 0.921 and parameters: {'max_depth': 6, 'n_estimators': 70, 'max_leaf_nodes': 9}. Best is trial 13 with value: 0.926.\u001b[0m\n",
      "\u001b[32m[I 2022-02-16 07:38:02,253]\u001b[0m Trial 26 finished with value: 0.923 and parameters: {'max_depth': 5, 'n_estimators': 90, 'max_leaf_nodes': 10}. Best is trial 13 with value: 0.926.\u001b[0m\n",
      "\u001b[32m[I 2022-02-16 07:38:03,378]\u001b[0m Trial 27 finished with value: 0.926 and parameters: {'max_depth': 4, 'n_estimators': 70, 'max_leaf_nodes': 9}. Best is trial 13 with value: 0.926.\u001b[0m\n",
      "\u001b[32m[I 2022-02-16 07:38:04,174]\u001b[0m Trial 28 finished with value: 0.916 and parameters: {'max_depth': 6, 'n_estimators': 50, 'max_leaf_nodes': 4}. Best is trial 13 with value: 0.926.\u001b[0m\n",
      "\u001b[32m[I 2022-02-16 07:38:05,265]\u001b[0m Trial 29 finished with value: 0.924 and parameters: {'max_depth': 4, 'n_estimators': 70, 'max_leaf_nodes': 7}. Best is trial 13 with value: 0.926.\u001b[0m\n",
      "\u001b[32m[I 2022-02-16 07:38:06,083]\u001b[0m Trial 30 finished with value: 0.914 and parameters: {'max_depth': 3, 'n_estimators': 50, 'max_leaf_nodes': 8}. Best is trial 13 with value: 0.926.\u001b[0m\n",
      "\u001b[32m[I 2022-02-16 07:38:07,318]\u001b[0m Trial 31 finished with value: 0.924 and parameters: {'max_depth': 4, 'n_estimators': 80, 'max_leaf_nodes': 9}. Best is trial 13 with value: 0.926.\u001b[0m\n",
      "\u001b[32m[I 2022-02-16 07:38:08,645]\u001b[0m Trial 32 finished with value: 0.919 and parameters: {'max_depth': 5, 'n_estimators': 80, 'max_leaf_nodes': 9}. Best is trial 13 with value: 0.926.\u001b[0m\n",
      "\u001b[32m[I 2022-02-16 07:38:09,580]\u001b[0m Trial 33 finished with value: 0.91 and parameters: {'max_depth': 2, 'n_estimators': 60, 'max_leaf_nodes': 10}. Best is trial 13 with value: 0.926.\u001b[0m\n",
      "\u001b[32m[I 2022-02-16 07:38:10,917]\u001b[0m Trial 34 finished with value: 0.923 and parameters: {'max_depth': 4, 'n_estimators': 90, 'max_leaf_nodes': 9}. Best is trial 13 with value: 0.926.\u001b[0m\n",
      "\u001b[32m[I 2022-02-16 07:38:11,978]\u001b[0m Trial 35 finished with value: 0.924 and parameters: {'max_depth': 3, 'n_estimators': 70, 'max_leaf_nodes': 8}. Best is trial 13 with value: 0.926.\u001b[0m\n",
      "\u001b[32m[I 2022-02-16 07:38:13,206]\u001b[0m Trial 36 finished with value: 0.921 and parameters: {'max_depth': 6, 'n_estimators': 80, 'max_leaf_nodes': 10}. Best is trial 13 with value: 0.926.\u001b[0m\n",
      "\u001b[32m[I 2022-02-16 07:38:14,284]\u001b[0m Trial 37 finished with value: 0.9 and parameters: {'max_depth': 5, 'n_estimators': 70, 'max_leaf_nodes': 3}. Best is trial 13 with value: 0.926.\u001b[0m\n",
      "\u001b[32m[I 2022-02-16 07:38:14,975]\u001b[0m Trial 38 finished with value: 0.916 and parameters: {'max_depth': 3, 'n_estimators': 40, 'max_leaf_nodes': 8}. Best is trial 13 with value: 0.926.\u001b[0m\n",
      "\u001b[32m[I 2022-02-16 07:38:15,253]\u001b[0m Trial 39 finished with value: 0.898 and parameters: {'max_depth': 2, 'n_estimators': 10, 'max_leaf_nodes': 9}. Best is trial 13 with value: 0.926.\u001b[0m\n",
      "\u001b[32m[I 2022-02-16 07:38:16,711]\u001b[0m Trial 40 finished with value: 0.924 and parameters: {'max_depth': 4, 'n_estimators': 100, 'max_leaf_nodes': 8}. Best is trial 13 with value: 0.926.\u001b[0m\n",
      "\u001b[32m[I 2022-02-16 07:38:18,232]\u001b[0m Trial 41 finished with value: 0.924 and parameters: {'max_depth': 4, 'n_estimators': 100, 'max_leaf_nodes': 8}. Best is trial 13 with value: 0.926.\u001b[0m\n",
      "\u001b[32m[I 2022-02-16 07:38:19,561]\u001b[0m Trial 42 finished with value: 0.923 and parameters: {'max_depth': 4, 'n_estimators': 90, 'max_leaf_nodes': 9}. Best is trial 13 with value: 0.926.\u001b[0m\n",
      "\u001b[32m[I 2022-02-16 07:38:21,088]\u001b[0m Trial 43 finished with value: 0.923 and parameters: {'max_depth': 3, 'n_estimators': 100, 'max_leaf_nodes': 10}. Best is trial 13 with value: 0.926.\u001b[0m\n",
      "\u001b[32m[I 2022-02-16 07:38:22,443]\u001b[0m Trial 44 finished with value: 0.923 and parameters: {'max_depth': 5, 'n_estimators': 90, 'max_leaf_nodes': 7}. Best is trial 13 with value: 0.926.\u001b[0m\n",
      "\u001b[32m[I 2022-02-16 07:38:23,500]\u001b[0m Trial 45 finished with value: 0.924 and parameters: {'max_depth': 3, 'n_estimators': 70, 'max_leaf_nodes': 8}. Best is trial 13 with value: 0.926.\u001b[0m\n",
      "\u001b[32m[I 2022-02-16 07:38:24,740]\u001b[0m Trial 46 finished with value: 0.921 and parameters: {'max_depth': 6, 'n_estimators': 80, 'max_leaf_nodes': 10}. Best is trial 13 with value: 0.926.\u001b[0m\n",
      "\u001b[32m[I 2022-02-16 07:38:26,208]\u001b[0m Trial 47 finished with value: 0.924 and parameters: {'max_depth': 5, 'n_estimators': 100, 'max_leaf_nodes': 9}. Best is trial 13 with value: 0.926.\u001b[0m\n",
      "\u001b[32m[I 2022-02-16 07:38:27,143]\u001b[0m Trial 48 finished with value: 0.923 and parameters: {'max_depth': 5, 'n_estimators': 60, 'max_leaf_nodes': 10}. Best is trial 13 with value: 0.926.\u001b[0m\n",
      "\u001b[32m[I 2022-02-16 07:38:28,398]\u001b[0m Trial 49 finished with value: 0.924 and parameters: {'max_depth': 4, 'n_estimators': 80, 'max_leaf_nodes': 9}. Best is trial 13 with value: 0.926.\u001b[0m\n"
     ]
    }
   ],
   "source": [
    "#\n",
    "# execute the study\n",
    "#\n",
    "study = optuna.create_study(study_name=\"mlflow-optuna-1\", direction=\"maximize\")\n",
    "\n",
    "study.optimize(objective, n_trials=50)"
   ]
  },
  {
   "cell_type": "code",
   "execution_count": 10,
   "id": "1b9abd76",
   "metadata": {},
   "outputs": [
    {
     "name": "stdout",
     "output_type": "stream",
     "text": [
      "Best trial: FrozenTrial(number=13, values=[0.926], datetime_start=datetime.datetime(2022, 2, 16, 7, 37, 46, 324492), datetime_complete=datetime.datetime(2022, 2, 16, 7, 37, 47, 800875), params={'max_depth': 5, 'n_estimators': 100, 'max_leaf_nodes': 10}, distributions={'max_depth': IntUniformDistribution(high=10, low=2, step=1), 'n_estimators': IntUniformDistribution(high=100, low=10, step=10), 'max_leaf_nodes': IntUniformDistribution(high=10, low=2, step=1)}, user_attrs={}, system_attrs={}, intermediate_values={}, trial_id=13, state=TrialState.COMPLETE, value=None)\n"
     ]
    }
   ],
   "source": [
    "# analyze result\n",
    "trial = study.best_trial\n",
    "\n",
    "print(\"Best trial:\", trial)"
   ]
  },
  {
   "cell_type": "code",
   "execution_count": null,
   "id": "4290e9b9",
   "metadata": {},
   "outputs": [],
   "source": []
  }
 ],
 "metadata": {
  "kernelspec": {
   "display_name": "Python [conda env:generalml_p37_gpu_v1]",
   "language": "python",
   "name": "conda-env-generalml_p37_gpu_v1-py"
  },
  "language_info": {
   "codemirror_mode": {
    "name": "ipython",
    "version": 3
   },
   "file_extension": ".py",
   "mimetype": "text/x-python",
   "name": "python",
   "nbconvert_exporter": "python",
   "pygments_lexer": "ipython3",
   "version": "3.7.12"
  }
 },
 "nbformat": 4,
 "nbformat_minor": 5
}
