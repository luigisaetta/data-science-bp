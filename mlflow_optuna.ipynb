{
 "cells": [
  {
   "cell_type": "markdown",
   "id": "87abcb31",
   "metadata": {},
   "source": [
    "### MLFlow and Optuna\n",
    "\n",
    "* env used: generalml_p37_gpu_v1\n",
    "* works also with CPU\n",
    "* requires: pip install mlflow"
   ]
  },
  {
   "cell_type": "code",
   "execution_count": 46,
   "id": "44322f39",
   "metadata": {},
   "outputs": [],
   "source": [
    "import os\n",
    "\n",
    "import optuna\n",
    "import mlflow\n",
    "\n",
    "# using a myconfig.py file I avoid to show pwd in NB\n",
    "from myconfig import config"
   ]
  },
  {
   "cell_type": "code",
   "execution_count": 47,
   "id": "3ec48c4f",
   "metadata": {},
   "outputs": [],
   "source": [
    "TRACK_SERVER_URI = \"http://130.61.171.147:80\"\n",
    "\n",
    "# the key for succesfull auth is to set these two variables\n",
    "# see documentation in https://www.mlflow.org/docs/latest/tracking.html\n",
    "os.environ['MLFLOW_TRACKING_USERNAME'] = config[\"MLFLOW_TRACKING_USERNAME\"]\n",
    "os.environ['MLFLOW_TRACKING_PASSWORD'] = config['MLFLOW_TRACKING_PASSWORD']"
   ]
  },
  {
   "cell_type": "code",
   "execution_count": 48,
   "id": "94993d7d",
   "metadata": {},
   "outputs": [],
   "source": [
    "mlflow.set_tracking_uri(TRACK_SERVER_URI)\n",
    "\n",
    "exp_id = mlflow.set_experiment(\"exp2\")"
   ]
  },
  {
   "cell_type": "code",
   "execution_count": 49,
   "id": "898cce83",
   "metadata": {},
   "outputs": [],
   "source": [
    "mlflow.start_run()\n",
    "\n",
    "mlflow.log_param(\"a\", 2)"
   ]
  },
  {
   "cell_type": "code",
   "execution_count": 50,
   "id": "3a9b6d8c",
   "metadata": {},
   "outputs": [],
   "source": [
    "mlflow.end_run()"
   ]
  },
  {
   "cell_type": "code",
   "execution_count": null,
   "id": "303bc472",
   "metadata": {},
   "outputs": [],
   "source": []
  }
 ],
 "metadata": {
  "kernelspec": {
   "display_name": "Python [conda env:generalml_p37_gpu_v1]",
   "language": "python",
   "name": "conda-env-generalml_p37_gpu_v1-py"
  },
  "language_info": {
   "codemirror_mode": {
    "name": "ipython",
    "version": 3
   },
   "file_extension": ".py",
   "mimetype": "text/x-python",
   "name": "python",
   "nbconvert_exporter": "python",
   "pygments_lexer": "ipython3",
   "version": "3.7.12"
  }
 },
 "nbformat": 4,
 "nbformat_minor": 5
}
