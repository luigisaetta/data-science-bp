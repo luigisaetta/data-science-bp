{
 "cells": [
  {
   "cell_type": "markdown",
   "id": "bfec60bd",
   "metadata": {},
   "source": [
    "### Regression and One-click deployment example\n",
    "\n",
    "In this Notebook I walk through all the steps needed to develop a **regression model** and save the model to the OCI Data Science Model Catalog.\n",
    "\n",
    "Then, I deploy the model as a service."
   ]
  },
  {
   "cell_type": "code",
   "execution_count": 74,
   "id": "9a1bf82c",
   "metadata": {},
   "outputs": [],
   "source": [
    "import pandas as pd\n",
    "import numpy as np\n",
    "from pandas.api.types import is_numeric_dtype\n",
    "\n",
    "# the dataset used for the example\n",
    "from sklearn.datasets import fetch_california_housing\n",
    "\n",
    "from sklearn.model_selection import train_test_split\n",
    "\n",
    "# the GBM used\n",
    "import xgboost as xgb\n",
    "\n",
    "# to use ADSTuner\n",
    "from ads.hpo.search_cv import ADSTuner\n",
    "from ads.hpo.stopping_criterion import *\n",
    "from ads.hpo.distributions import *\n",
    "\n",
    "import pickle\n",
    "\n",
    "import os\n",
    "from ads import set_auth\n",
    "from ads.common.model_artifact import ModelArtifact\n",
    "from ads.common.model_export_util import prepare_generic_model\n",
    "from ads.common.model_metadata import (MetadataCustomCategory,\n",
    "                                       UseCaseType)"
   ]
  },
  {
   "cell_type": "code",
   "execution_count": 2,
   "id": "aee3c513",
   "metadata": {},
   "outputs": [],
   "source": [
    "# functions\n",
    "def get_general_info(data_df):\n",
    "    print(f\"There are: {len(data_df.columns)} columns in the dataset\")\n",
    "    print()\n",
    "    print(\n",
    "        \"The list of column names, in alphabetical order:\",\n",
    "        sorted(list(data_df.columns)),\n",
    "    )\n",
    "    print()\n",
    "    print(f\"There are {data_df.shape[0]} records in the dataset\")\n",
    "    print()\n",
    "    \n",
    "    return\n",
    "\n",
    "# well you have to decide a threshold in term of a fraction\n",
    "# to decide if the col is categorical\n",
    "FRAC = 0.1\n",
    "\n",
    "def analyze_df(data_df):\n",
    "    # it is ok to use isna, isnull is an alias of isna\n",
    "    missing_val = data_df.isna().sum()\n",
    "\n",
    "    # cardinality\n",
    "\n",
    "    THR = data_df.shape[0] * FRAC\n",
    "\n",
    "    list_card = []\n",
    "    list_cat = []\n",
    "    list_dtypes = []\n",
    "    list_num_zeros = []\n",
    "\n",
    "    for col in data_df.columns:\n",
    "        # count the # of distinct values\n",
    "        n_distinct = data_df[col].nunique()\n",
    "        list_card.append(n_distinct)\n",
    "        \n",
    "        # is categorical is decide on this rule\n",
    "        if n_distinct < THR:\n",
    "            # categorical\n",
    "            list_cat.append(\"Yes\")\n",
    "        else:\n",
    "            list_cat.append(\"No\")\n",
    "\n",
    "        list_dtypes.append(data_df[col].dtype)\n",
    "\n",
    "    # build the results DF\n",
    "    result_df = pd.DataFrame(\n",
    "        {\n",
    "            \"col_name\": list(data_df.columns),\n",
    "            \"missing_vals\": missing_val,\n",
    "            \"cardinality\": list_card,\n",
    "            \"is_categorical\": list_cat,\n",
    "            \"data_type\": list_dtypes,\n",
    "        },\n",
    "        index=None,\n",
    "    )\n",
    "\n",
    "    # if you don't want cols as index\n",
    "    result_df.reset_index(drop=True, inplace=True)\n",
    "\n",
    "    return result_df\n",
    "\n",
    "def show_tuner_results(tuner):\n",
    "\n",
    "    # to count completed\n",
    "    result_df = tuner.trials[tuner.trials[\"state\"] == \"COMPLETE\"].sort_values(\n",
    "        by=[\"value\"], ascending=False\n",
    "    )\n",
    "\n",
    "    print(\"ADSTuner session results:\")\n",
    "    print(f\"ADSTuner has completed {result_df.shape[0]} trials\")\n",
    "    print()\n",
    "    print(f\"The best trial is the #: {tuner.best_index}\")\n",
    "    print(f\"Parameters for the best trial are: {tuner.best_params}\")\n",
    "    print(f\"The metric used to optimize is: {tuner.scoring_name}\")\n",
    "    print(f\"The best score is: {round(tuner.best_score, 4)}\")"
   ]
  },
  {
   "cell_type": "code",
   "execution_count": 3,
   "id": "fb8f57e4",
   "metadata": {},
   "outputs": [],
   "source": [
    "# load the dataset\n",
    "housing = fetch_california_housing(as_frame=True)\n",
    "\n",
    "orig_df = housing.frame"
   ]
  },
  {
   "cell_type": "code",
   "execution_count": 4,
   "id": "6e96ae31",
   "metadata": {},
   "outputs": [
    {
     "data": {
      "text/html": [
       "<div>\n",
       "<style scoped>\n",
       "    .dataframe tbody tr th:only-of-type {\n",
       "        vertical-align: middle;\n",
       "    }\n",
       "\n",
       "    .dataframe tbody tr th {\n",
       "        vertical-align: top;\n",
       "    }\n",
       "\n",
       "    .dataframe thead th {\n",
       "        text-align: right;\n",
       "    }\n",
       "</style>\n",
       "<table border=\"1\" class=\"dataframe\">\n",
       "  <thead>\n",
       "    <tr style=\"text-align: right;\">\n",
       "      <th></th>\n",
       "      <th>MedInc</th>\n",
       "      <th>HouseAge</th>\n",
       "      <th>AveRooms</th>\n",
       "      <th>AveBedrms</th>\n",
       "      <th>Population</th>\n",
       "      <th>AveOccup</th>\n",
       "      <th>Latitude</th>\n",
       "      <th>Longitude</th>\n",
       "      <th>MedHouseVal</th>\n",
       "    </tr>\n",
       "  </thead>\n",
       "  <tbody>\n",
       "    <tr>\n",
       "      <th>0</th>\n",
       "      <td>8.3252</td>\n",
       "      <td>41.0</td>\n",
       "      <td>6.984127</td>\n",
       "      <td>1.023810</td>\n",
       "      <td>322.0</td>\n",
       "      <td>2.555556</td>\n",
       "      <td>37.88</td>\n",
       "      <td>-122.23</td>\n",
       "      <td>4.526</td>\n",
       "    </tr>\n",
       "    <tr>\n",
       "      <th>1</th>\n",
       "      <td>8.3014</td>\n",
       "      <td>21.0</td>\n",
       "      <td>6.238137</td>\n",
       "      <td>0.971880</td>\n",
       "      <td>2401.0</td>\n",
       "      <td>2.109842</td>\n",
       "      <td>37.86</td>\n",
       "      <td>-122.22</td>\n",
       "      <td>3.585</td>\n",
       "    </tr>\n",
       "    <tr>\n",
       "      <th>2</th>\n",
       "      <td>7.2574</td>\n",
       "      <td>52.0</td>\n",
       "      <td>8.288136</td>\n",
       "      <td>1.073446</td>\n",
       "      <td>496.0</td>\n",
       "      <td>2.802260</td>\n",
       "      <td>37.85</td>\n",
       "      <td>-122.24</td>\n",
       "      <td>3.521</td>\n",
       "    </tr>\n",
       "    <tr>\n",
       "      <th>3</th>\n",
       "      <td>5.6431</td>\n",
       "      <td>52.0</td>\n",
       "      <td>5.817352</td>\n",
       "      <td>1.073059</td>\n",
       "      <td>558.0</td>\n",
       "      <td>2.547945</td>\n",
       "      <td>37.85</td>\n",
       "      <td>-122.25</td>\n",
       "      <td>3.413</td>\n",
       "    </tr>\n",
       "    <tr>\n",
       "      <th>4</th>\n",
       "      <td>3.8462</td>\n",
       "      <td>52.0</td>\n",
       "      <td>6.281853</td>\n",
       "      <td>1.081081</td>\n",
       "      <td>565.0</td>\n",
       "      <td>2.181467</td>\n",
       "      <td>37.85</td>\n",
       "      <td>-122.25</td>\n",
       "      <td>3.422</td>\n",
       "    </tr>\n",
       "  </tbody>\n",
       "</table>\n",
       "</div>"
      ],
      "text/plain": [
       "   MedInc  HouseAge  AveRooms  AveBedrms  Population  AveOccup  Latitude  \\\n",
       "0  8.3252      41.0  6.984127   1.023810       322.0  2.555556     37.88   \n",
       "1  8.3014      21.0  6.238137   0.971880      2401.0  2.109842     37.86   \n",
       "2  7.2574      52.0  8.288136   1.073446       496.0  2.802260     37.85   \n",
       "3  5.6431      52.0  5.817352   1.073059       558.0  2.547945     37.85   \n",
       "4  3.8462      52.0  6.281853   1.081081       565.0  2.181467     37.85   \n",
       "\n",
       "   Longitude  MedHouseVal  \n",
       "0    -122.23        4.526  \n",
       "1    -122.22        3.585  \n",
       "2    -122.24        3.521  \n",
       "3    -122.25        3.413  \n",
       "4    -122.25        3.422  "
      ]
     },
     "execution_count": 4,
     "metadata": {},
     "output_type": "execute_result"
    }
   ],
   "source": [
    "orig_df.head()"
   ]
  },
  {
   "cell_type": "markdown",
   "id": "534077a5",
   "metadata": {},
   "source": [
    "### some EDA"
   ]
  },
  {
   "cell_type": "code",
   "execution_count": 5,
   "id": "27d7554d",
   "metadata": {},
   "outputs": [
    {
     "name": "stdout",
     "output_type": "stream",
     "text": [
      "There are: 9 columns in the dataset\n",
      "\n",
      "The list of column names, in alphabetical order: ['AveBedrms', 'AveOccup', 'AveRooms', 'HouseAge', 'Latitude', 'Longitude', 'MedHouseVal', 'MedInc', 'Population']\n",
      "\n",
      "There are 20640 records in the dataset\n",
      "\n"
     ]
    },
    {
     "data": {
      "text/html": [
       "<div>\n",
       "<style scoped>\n",
       "    .dataframe tbody tr th:only-of-type {\n",
       "        vertical-align: middle;\n",
       "    }\n",
       "\n",
       "    .dataframe tbody tr th {\n",
       "        vertical-align: top;\n",
       "    }\n",
       "\n",
       "    .dataframe thead th {\n",
       "        text-align: right;\n",
       "    }\n",
       "</style>\n",
       "<table border=\"1\" class=\"dataframe\">\n",
       "  <thead>\n",
       "    <tr style=\"text-align: right;\">\n",
       "      <th></th>\n",
       "      <th>col_name</th>\n",
       "      <th>missing_vals</th>\n",
       "      <th>cardinality</th>\n",
       "      <th>is_categorical</th>\n",
       "      <th>data_type</th>\n",
       "    </tr>\n",
       "  </thead>\n",
       "  <tbody>\n",
       "    <tr>\n",
       "      <th>0</th>\n",
       "      <td>MedInc</td>\n",
       "      <td>0</td>\n",
       "      <td>12928</td>\n",
       "      <td>No</td>\n",
       "      <td>float64</td>\n",
       "    </tr>\n",
       "    <tr>\n",
       "      <th>1</th>\n",
       "      <td>HouseAge</td>\n",
       "      <td>0</td>\n",
       "      <td>52</td>\n",
       "      <td>Yes</td>\n",
       "      <td>float64</td>\n",
       "    </tr>\n",
       "    <tr>\n",
       "      <th>2</th>\n",
       "      <td>AveRooms</td>\n",
       "      <td>0</td>\n",
       "      <td>19392</td>\n",
       "      <td>No</td>\n",
       "      <td>float64</td>\n",
       "    </tr>\n",
       "    <tr>\n",
       "      <th>3</th>\n",
       "      <td>AveBedrms</td>\n",
       "      <td>0</td>\n",
       "      <td>14233</td>\n",
       "      <td>No</td>\n",
       "      <td>float64</td>\n",
       "    </tr>\n",
       "    <tr>\n",
       "      <th>4</th>\n",
       "      <td>Population</td>\n",
       "      <td>0</td>\n",
       "      <td>3888</td>\n",
       "      <td>No</td>\n",
       "      <td>float64</td>\n",
       "    </tr>\n",
       "    <tr>\n",
       "      <th>5</th>\n",
       "      <td>AveOccup</td>\n",
       "      <td>0</td>\n",
       "      <td>18841</td>\n",
       "      <td>No</td>\n",
       "      <td>float64</td>\n",
       "    </tr>\n",
       "    <tr>\n",
       "      <th>6</th>\n",
       "      <td>Latitude</td>\n",
       "      <td>0</td>\n",
       "      <td>862</td>\n",
       "      <td>Yes</td>\n",
       "      <td>float64</td>\n",
       "    </tr>\n",
       "    <tr>\n",
       "      <th>7</th>\n",
       "      <td>Longitude</td>\n",
       "      <td>0</td>\n",
       "      <td>844</td>\n",
       "      <td>Yes</td>\n",
       "      <td>float64</td>\n",
       "    </tr>\n",
       "    <tr>\n",
       "      <th>8</th>\n",
       "      <td>MedHouseVal</td>\n",
       "      <td>0</td>\n",
       "      <td>3842</td>\n",
       "      <td>No</td>\n",
       "      <td>float64</td>\n",
       "    </tr>\n",
       "  </tbody>\n",
       "</table>\n",
       "</div>"
      ],
      "text/plain": [
       "      col_name  missing_vals  cardinality is_categorical data_type\n",
       "0       MedInc             0        12928             No   float64\n",
       "1     HouseAge             0           52            Yes   float64\n",
       "2     AveRooms             0        19392             No   float64\n",
       "3    AveBedrms             0        14233             No   float64\n",
       "4   Population             0         3888             No   float64\n",
       "5     AveOccup             0        18841             No   float64\n",
       "6     Latitude             0          862            Yes   float64\n",
       "7    Longitude             0          844            Yes   float64\n",
       "8  MedHouseVal             0         3842             No   float64"
      ]
     },
     "execution_count": 5,
     "metadata": {},
     "output_type": "execute_result"
    }
   ],
   "source": [
    "get_general_info(orig_df)\n",
    "\n",
    "analyze_df(orig_df)"
   ]
  },
  {
   "cell_type": "code",
   "execution_count": 6,
   "id": "d9259b0e",
   "metadata": {},
   "outputs": [
    {
     "data": {
      "text/plain": [
       "['AveBedrms', 'AveOccup', 'AveRooms', 'HouseAge', 'MedInc', 'Population']"
      ]
     },
     "execution_count": 6,
     "metadata": {},
     "output_type": "execute_result"
    }
   ],
   "source": [
    "# In this example I'll use all the columns (ex MedHouseVal) as features, except Lat, Long, to simplify\n",
    "\n",
    "TARGET = \"MedHouseVal\"\n",
    "all_cols = list(orig_df.columns)\n",
    "cols_to_drop = ['Latitude', 'Longitude']\n",
    "\n",
    "cat_cols = ['HouseAge']\n",
    "# take care, I have sorted\n",
    "FEATURES = sorted(list(set(all_cols) - set([TARGET])- set(cols_to_drop)))\n",
    "\n",
    "# for LightGBM\n",
    "cat_columns_idxs = [i for i, col in enumerate(FEATURES) if col in cat_cols]\n",
    "\n",
    "FEATURES"
   ]
  },
  {
   "cell_type": "code",
   "execution_count": 7,
   "id": "6be8bf1f",
   "metadata": {},
   "outputs": [
    {
     "data": {
      "text/plain": [
       "[3]"
      ]
     },
     "execution_count": 7,
     "metadata": {},
     "output_type": "execute_result"
    }
   ],
   "source": [
    "cat_columns_idxs"
   ]
  },
  {
   "cell_type": "code",
   "execution_count": 8,
   "id": "869c6e8f",
   "metadata": {},
   "outputs": [],
   "source": [
    "# the only important thing is that we have 1 categorical column: HouseAge\n",
    "\n",
    "# as per LightGBM doc (https://lightgbm.readthedocs.io/en/latest/Advanced-Topics.html) we will code categorical as integer starting from zero\n",
    "# in this case it is easy, since the minimum is 1... so we need only to subtract 1"
   ]
  },
  {
   "cell_type": "code",
   "execution_count": 9,
   "id": "ec34e9fc",
   "metadata": {},
   "outputs": [],
   "source": [
    "used_df = orig_df.copy()\n",
    "\n",
    "used_df['HouseAge'] = used_df['HouseAge'] - 1.\n",
    "\n",
    "used_df['HouseAge'] = used_df['HouseAge'].astype(int)\n",
    "used_df['HouseAge'] = used_df['HouseAge'].astype(\"category\")"
   ]
  },
  {
   "cell_type": "code",
   "execution_count": 10,
   "id": "9038afe4",
   "metadata": {},
   "outputs": [],
   "source": [
    "# let's make a simple train/test split\n",
    "X = used_df[FEATURES].values\n",
    "y = used_df[TARGET].values\n",
    "\n",
    "TEST_SIZE = 0.2\n",
    "\n",
    "X_train, X_test, y_train, y_test = train_test_split(X, y, test_size=TEST_SIZE, random_state=1)"
   ]
  },
  {
   "cell_type": "markdown",
   "id": "3dd36e02",
   "metadata": {},
   "source": [
    "### using ADSTuner"
   ]
  },
  {
   "cell_type": "code",
   "execution_count": 11,
   "id": "8c4a45ab",
   "metadata": {},
   "outputs": [
    {
     "name": "stderr",
     "output_type": "stream",
     "text": [
      "\u001b[32m[I 2022-03-30 10:38:17,451]\u001b[0m A new study created in RDB with name: xgb001\u001b[0m\n"
     ]
    }
   ],
   "source": [
    "STUDY_NAME = \"xgb001\"\n",
    "FOLDS = 5\n",
    "TIME_BUDGET = 900\n",
    "\n",
    "#\n",
    "# Here we define the strategy, the space for hyper-parameters we want to explore\n",
    "#\n",
    "params = {\n",
    "    \"n_estimators\": CategoricalDistribution([100, 200, 300, 400, 500]),\n",
    "    \"learning_rate\": LogUniformDistribution(low=1e-4, high=1e-2),\n",
    "    \"max_depth\": IntUniformDistribution(5, 10),\n",
    "}\n",
    "\n",
    "alg_reg = xgb.XGBRegressor()\n",
    "\n",
    "tuner = ADSTuner(\n",
    "    alg_reg, cv=FOLDS, strategy=params, study_name=STUDY_NAME,  scoring='neg_mean_absolute_error'\n",
    ")\n",
    "\n",
    "tuner.tune(X_train, y_train, exit_criterion=[TimeBudget(TIME_BUDGET)])"
   ]
  },
  {
   "cell_type": "code",
   "execution_count": 43,
   "id": "22f3af9b",
   "metadata": {},
   "outputs": [
    {
     "name": "stdout",
     "output_type": "stream",
     "text": [
      "The tuner status is: State.RUNNING\n",
      "Remaining time is: 0 sec.\n"
     ]
    }
   ],
   "source": [
    "# get the status to see if completed\n",
    "print(f\"The tuner status is: {tuner.get_status()}\")\n",
    "\n",
    "print(f\"Remaining time is: {round(tuner.time_remaining, 1)} sec.\")"
   ]
  },
  {
   "cell_type": "code",
   "execution_count": 54,
   "id": "e1c263bd",
   "metadata": {},
   "outputs": [
    {
     "name": "stdout",
     "output_type": "stream",
     "text": [
      "ADSTuner session results:\n",
      "ADSTuner has completed 3 trials\n",
      "\n",
      "The best trial is the #: 1\n",
      "Parameters for the best trial are: {'learning_rate': 0.009368194311641513, 'max_depth': 5, 'n_estimators': 100}\n",
      "The metric used to optimize is: neg_mean_absolute_error\n",
      "The best score is: -0.7217\n"
     ]
    }
   ],
   "source": [
    "show_tuner_results(tuner)"
   ]
  },
  {
   "cell_type": "code",
   "execution_count": 55,
   "id": "72ab7a19",
   "metadata": {},
   "outputs": [
    {
     "data": {
      "text/html": [
       "<div>\n",
       "<style scoped>\n",
       "    .dataframe tbody tr th:only-of-type {\n",
       "        vertical-align: middle;\n",
       "    }\n",
       "\n",
       "    .dataframe tbody tr th {\n",
       "        vertical-align: top;\n",
       "    }\n",
       "\n",
       "    .dataframe thead th {\n",
       "        text-align: right;\n",
       "    }\n",
       "</style>\n",
       "<table border=\"1\" class=\"dataframe\">\n",
       "  <thead>\n",
       "    <tr style=\"text-align: right;\">\n",
       "      <th></th>\n",
       "      <th>number</th>\n",
       "      <th>value</th>\n",
       "      <th>datetime_start</th>\n",
       "      <th>datetime_complete</th>\n",
       "      <th>duration</th>\n",
       "      <th>params_learning_rate</th>\n",
       "      <th>params_max_depth</th>\n",
       "      <th>params_n_estimators</th>\n",
       "      <th>user_attrs_mean_fit_time</th>\n",
       "      <th>user_attrs_mean_score_time</th>\n",
       "      <th>...</th>\n",
       "      <th>user_attrs_metric</th>\n",
       "      <th>user_attrs_split0_test_score</th>\n",
       "      <th>user_attrs_split1_test_score</th>\n",
       "      <th>user_attrs_split2_test_score</th>\n",
       "      <th>user_attrs_split3_test_score</th>\n",
       "      <th>user_attrs_split4_test_score</th>\n",
       "      <th>user_attrs_std_fit_time</th>\n",
       "      <th>user_attrs_std_score_time</th>\n",
       "      <th>user_attrs_std_test_score</th>\n",
       "      <th>state</th>\n",
       "    </tr>\n",
       "  </thead>\n",
       "  <tbody>\n",
       "    <tr>\n",
       "      <th>1</th>\n",
       "      <td>1</td>\n",
       "      <td>-0.721742</td>\n",
       "      <td>2022-03-30 10:47:37.721241</td>\n",
       "      <td>2022-03-30 10:49:06.555894</td>\n",
       "      <td>0 days 00:01:28.834653</td>\n",
       "      <td>0.009368</td>\n",
       "      <td>5</td>\n",
       "      <td>100</td>\n",
       "      <td>17.721438</td>\n",
       "      <td>0.013800</td>\n",
       "      <td>...</td>\n",
       "      <td>neg_mean_absolute_error</td>\n",
       "      <td>-0.727963</td>\n",
       "      <td>-0.726046</td>\n",
       "      <td>-0.716097</td>\n",
       "      <td>-0.710933</td>\n",
       "      <td>-0.727672</td>\n",
       "      <td>0.104303</td>\n",
       "      <td>0.000130</td>\n",
       "      <td>0.006944</td>\n",
       "      <td>COMPLETE</td>\n",
       "    </tr>\n",
       "    <tr>\n",
       "      <th>2</th>\n",
       "      <td>2</td>\n",
       "      <td>-0.744392</td>\n",
       "      <td>2022-03-30 10:49:06.570064</td>\n",
       "      <td>2022-03-30 10:56:28.031449</td>\n",
       "      <td>0 days 00:07:21.461385</td>\n",
       "      <td>0.001780</td>\n",
       "      <td>5</td>\n",
       "      <td>500</td>\n",
       "      <td>88.244876</td>\n",
       "      <td>0.015779</td>\n",
       "      <td>...</td>\n",
       "      <td>neg_mean_absolute_error</td>\n",
       "      <td>-0.751375</td>\n",
       "      <td>-0.748336</td>\n",
       "      <td>-0.737855</td>\n",
       "      <td>-0.733915</td>\n",
       "      <td>-0.750482</td>\n",
       "      <td>0.104166</td>\n",
       "      <td>0.001137</td>\n",
       "      <td>0.007126</td>\n",
       "      <td>COMPLETE</td>\n",
       "    </tr>\n",
       "    <tr>\n",
       "      <th>0</th>\n",
       "      <td>0</td>\n",
       "      <td>-1.408670</td>\n",
       "      <td>2022-03-30 10:38:17.832500</td>\n",
       "      <td>2022-03-30 10:47:37.702838</td>\n",
       "      <td>0 days 00:09:19.870338</td>\n",
       "      <td>0.000232</td>\n",
       "      <td>6</td>\n",
       "      <td>500</td>\n",
       "      <td>111.919690</td>\n",
       "      <td>0.017269</td>\n",
       "      <td>...</td>\n",
       "      <td>neg_mean_absolute_error</td>\n",
       "      <td>-1.424512</td>\n",
       "      <td>-1.412303</td>\n",
       "      <td>-1.394650</td>\n",
       "      <td>-1.399688</td>\n",
       "      <td>-1.412197</td>\n",
       "      <td>0.749321</td>\n",
       "      <td>0.000772</td>\n",
       "      <td>0.010525</td>\n",
       "      <td>COMPLETE</td>\n",
       "    </tr>\n",
       "  </tbody>\n",
       "</table>\n",
       "<p>3 rows × 21 columns</p>\n",
       "</div>"
      ],
      "text/plain": [
       "   number     value             datetime_start          datetime_complete  \\\n",
       "1       1 -0.721742 2022-03-30 10:47:37.721241 2022-03-30 10:49:06.555894   \n",
       "2       2 -0.744392 2022-03-30 10:49:06.570064 2022-03-30 10:56:28.031449   \n",
       "0       0 -1.408670 2022-03-30 10:38:17.832500 2022-03-30 10:47:37.702838   \n",
       "\n",
       "                duration  params_learning_rate  params_max_depth  \\\n",
       "1 0 days 00:01:28.834653              0.009368                 5   \n",
       "2 0 days 00:07:21.461385              0.001780                 5   \n",
       "0 0 days 00:09:19.870338              0.000232                 6   \n",
       "\n",
       "   params_n_estimators  user_attrs_mean_fit_time  user_attrs_mean_score_time  \\\n",
       "1                  100                 17.721438                    0.013800   \n",
       "2                  500                 88.244876                    0.015779   \n",
       "0                  500                111.919690                    0.017269   \n",
       "\n",
       "   ...        user_attrs_metric user_attrs_split0_test_score  \\\n",
       "1  ...  neg_mean_absolute_error                    -0.727963   \n",
       "2  ...  neg_mean_absolute_error                    -0.751375   \n",
       "0  ...  neg_mean_absolute_error                    -1.424512   \n",
       "\n",
       "   user_attrs_split1_test_score  user_attrs_split2_test_score  \\\n",
       "1                     -0.726046                     -0.716097   \n",
       "2                     -0.748336                     -0.737855   \n",
       "0                     -1.412303                     -1.394650   \n",
       "\n",
       "   user_attrs_split3_test_score  user_attrs_split4_test_score  \\\n",
       "1                     -0.710933                     -0.727672   \n",
       "2                     -0.733915                     -0.750482   \n",
       "0                     -1.399688                     -1.412197   \n",
       "\n",
       "   user_attrs_std_fit_time  user_attrs_std_score_time  \\\n",
       "1                 0.104303                   0.000130   \n",
       "2                 0.104166                   0.001137   \n",
       "0                 0.749321                   0.000772   \n",
       "\n",
       "   user_attrs_std_test_score     state  \n",
       "1                   0.006944  COMPLETE  \n",
       "2                   0.007126  COMPLETE  \n",
       "0                   0.010525  COMPLETE  \n",
       "\n",
       "[3 rows x 21 columns]"
      ]
     },
     "execution_count": 55,
     "metadata": {},
     "output_type": "execute_result"
    }
   ],
   "source": [
    "# look only at completed trials, sorted with best on top. Metric chosen is in the value col.\n",
    "result_df = tuner.trials[tuner.trials[\"state\"] == \"COMPLETE\"].sort_values(\n",
    "    by=[\"value\"], ascending=False\n",
    ")\n",
    "\n",
    "result_df.head(10)"
   ]
  },
  {
   "cell_type": "code",
   "execution_count": 57,
   "id": "d26fbae4",
   "metadata": {},
   "outputs": [
    {
     "name": "stdout",
     "output_type": "stream",
     "text": [
      "CPU times: user 8min 18s, sys: 860 ms, total: 8min 19s\n",
      "Wall time: 17.6 s\n"
     ]
    },
    {
     "data": {
      "text/plain": [
       "XGBRegressor(base_score=0.5, booster='gbtree', colsample_bylevel=1,\n",
       "             colsample_bynode=1, colsample_bytree=1, enable_categorical=False,\n",
       "             gamma=0, gpu_id=-1, importance_type=None,\n",
       "             interaction_constraints='', learning_rate=0.009368194311641513,\n",
       "             max_delta_step=0, max_depth=5, min_child_weight=1, missing=nan,\n",
       "             monotone_constraints='()', n_estimators=100, n_jobs=32,\n",
       "             num_parallel_tree=1, predictor='auto', random_state=0, reg_alpha=0,\n",
       "             reg_lambda=1, scale_pos_weight=1, subsample=1, tree_method='exact',\n",
       "             validate_parameters=1, verbosity=None)"
      ]
     },
     "execution_count": 57,
     "metadata": {},
     "output_type": "execute_result"
    }
   ],
   "source": [
    "%%time\n",
    "### train with best params\n",
    "\n",
    "model = xgb.XGBRegressor(**tuner.best_params)\n",
    "\n",
    "model.fit(X_train, y_train)"
   ]
  },
  {
   "cell_type": "markdown",
   "id": "a92ccfb3",
   "metadata": {},
   "source": [
    "### Save the model"
   ]
  },
  {
   "cell_type": "code",
   "execution_count": 88,
   "id": "6a1e9987",
   "metadata": {},
   "outputs": [],
   "source": [
    "# save the model\n",
    "MODEL_FILE_NAME = \"model.pkl\"\n",
    "\n",
    "pickle.dump(model, open(MODEL_FILE_NAME, \"wb\"))"
   ]
  },
  {
   "cell_type": "code",
   "execution_count": 89,
   "id": "6d1743fd",
   "metadata": {},
   "outputs": [],
   "source": [
    "loaded_model = pickle.load(open(MODEL_FILE_NAME, \"rb\"))"
   ]
  },
  {
   "cell_type": "code",
   "execution_count": 90,
   "id": "e389c852",
   "metadata": {},
   "outputs": [
    {
     "data": {
      "text/plain": [
       "XGBRegressor(base_score=0.5, booster='gbtree', colsample_bylevel=1,\n",
       "             colsample_bynode=1, colsample_bytree=1, enable_categorical=False,\n",
       "             gamma=0, gpu_id=-1, importance_type=None,\n",
       "             interaction_constraints='', learning_rate=0.009368194311641513,\n",
       "             max_delta_step=0, max_depth=5, min_child_weight=1, missing=nan,\n",
       "             monotone_constraints='()', n_estimators=100, n_jobs=32,\n",
       "             num_parallel_tree=1, predictor='auto', random_state=0, reg_alpha=0,\n",
       "             reg_lambda=1, scale_pos_weight=1, subsample=1, tree_method='exact',\n",
       "             validate_parameters=1, verbosity=None)"
      ]
     },
     "execution_count": 90,
     "metadata": {},
     "output_type": "execute_result"
    }
   ],
   "source": [
    "loaded_model"
   ]
  },
  {
   "cell_type": "markdown",
   "id": "59234d41",
   "metadata": {},
   "source": [
    "### Prepare for Model Catalog"
   ]
  },
  {
   "cell_type": "code",
   "execution_count": 91,
   "id": "a1b45eba",
   "metadata": {},
   "outputs": [],
   "source": [
    "PATH_ARTEFACT = f\"./model-files\"\n",
    "\n",
    "if not os.path.exists(PATH_ARTEFACT):\n",
    "    os.mkdir(PATH_ARTEFACT)"
   ]
  },
  {
   "cell_type": "code",
   "execution_count": 92,
   "id": "327ed3fc",
   "metadata": {},
   "outputs": [
    {
     "data": {
      "application/vnd.jupyter.widget-view+json": {
       "model_id": "",
       "version_major": 2,
       "version_minor": 0
      },
      "text/plain": [
       "loop1:   0%|          | 0/4 [00:00<?, ?it/s]"
      ]
     },
     "metadata": {},
     "output_type": "display_data"
    },
    {
     "name": "stdout",
     "output_type": "stream",
     "text": [
      "WARNING:ADS:As force_overwrite is set to True, all the existing files in the ./model-files will be removed\n"
     ]
    }
   ],
   "source": [
    "# se passi x-test, y_test genera nei metadati anche lo schema\n",
    "artifact = prepare_generic_model(model=model, model_path=PATH_ARTEFACT,\n",
    "                                 force_overwrite=True, data_science_env=True,\n",
    "                                 X_sample=X_test,\n",
    "                                 y_sample=y_test,\n",
    "                                 use_case_type=UseCaseType.REGRESSION)\n",
    "\n",
    "# add the model file to the directory\n",
    "pickle.dump(model, open(PATH_ARTEFACT + \"/\" + MODEL_FILE_NAME, \"wb\"))"
   ]
  },
  {
   "cell_type": "markdown",
   "id": "772bf5f2",
   "metadata": {},
   "source": [
    "### TODO: customize score.py"
   ]
  },
  {
   "cell_type": "code",
   "execution_count": 93,
   "id": "ffd0e0b9",
   "metadata": {},
   "outputs": [
    {
     "data": {
      "application/vnd.jupyter.widget-view+json": {
       "model_id": "",
       "version_major": 2,
       "version_minor": 0
      },
      "text/plain": [
       "loop1:   0%|          | 0/5 [00:00<?, ?it/s]"
      ]
     },
     "metadata": {},
     "output_type": "display_data"
    },
    {
     "name": "stdout",
     "output_type": "stream",
     "text": [
      "artifact:/tmp/saved_model_fe2fa2bc-1c80-4736-94da-be09a412f848.zip\n"
     ]
    }
   ],
   "source": [
    "# Saving the model artifact to the model catalog.\n",
    "compartment_id = os.environ['NB_SESSION_COMPARTMENT_OCID']\n",
    "project_id = os.environ['PROJECT_OCID']\n",
    "\n",
    "set_auth(auth='resource_principal')\n",
    "\n",
    "# to set the serialization format in metadata\n",
    "artifact.reload(model_file_name=MODEL_FILE_NAME)\n",
    "\n",
    "catalog_entry = artifact.save(display_name='california-housing1', \n",
    "                              description='A model for regression',\n",
    "                              # to avoid to commit (be careful)\n",
    "                              ignore_pending_changes=True)"
   ]
  },
  {
   "cell_type": "code",
   "execution_count": null,
   "id": "816e4577",
   "metadata": {},
   "outputs": [],
   "source": []
  }
 ],
 "metadata": {
  "kernelspec": {
   "display_name": "Python [conda env:generalml_p37_cpu_v1]",
   "language": "python",
   "name": "conda-env-generalml_p37_cpu_v1-py"
  },
  "language_info": {
   "codemirror_mode": {
    "name": "ipython",
    "version": 3
   },
   "file_extension": ".py",
   "mimetype": "text/x-python",
   "name": "python",
   "nbconvert_exporter": "python",
   "pygments_lexer": "ipython3",
   "version": "3.7.12"
  }
 },
 "nbformat": 4,
 "nbformat_minor": 5
}
