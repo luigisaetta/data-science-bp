{
 "cells": [
  {
   "cell_type": "markdown",
   "id": "d190eb6b",
   "metadata": {},
   "source": [
    "### Test ADWH connection\n",
    "\n",
    "* simplified from the versione inside Conda NB"
   ]
  },
  {
   "cell_type": "code",
   "execution_count": 1,
   "id": "c5e4c654",
   "metadata": {},
   "outputs": [],
   "source": [
    "import cx_Oracle as cxo\n",
    "\n",
    "from ads.database import connection \n",
    "from ads.database.connection import Connector\n",
    "from ads.dataset.factory import DatasetFactory\n",
    "from sqlalchemy import create_engine\n",
    "from urllib.request import urlopen\n",
    "import os\n",
    "import warnings\n",
    "import logging\n",
    "\n",
    "warnings.filterwarnings(\"ignore\", category=DeprecationWarning) \n",
    "logging.basicConfig(format='%(levelname)s:%(message)s', level=logging.INFO)"
   ]
  },
  {
   "cell_type": "code",
   "execution_count": 2,
   "id": "a59ed8f0",
   "metadata": {},
   "outputs": [
    {
     "name": "stdout",
     "output_type": "stream",
     "text": [
      "8.3.0\n"
     ]
    }
   ],
   "source": [
    "print(cxo.__version__)"
   ]
  },
  {
   "cell_type": "code",
   "execution_count": 3,
   "id": "47dac961",
   "metadata": {},
   "outputs": [],
   "source": [
    "#credential = {'database_name': 'dbtst1_medium', \n",
    "#              'username': 'DEMO1', \n",
    "#              'password': 'Pippo12345::',\n",
    "#              'database_type':'oracle'}"
   ]
  },
  {
   "cell_type": "code",
   "execution_count": 4,
   "id": "5c43c7f8",
   "metadata": {},
   "outputs": [],
   "source": [
    "# memorizzo in un repository locale\n",
    "# in questo modo nel NB non c'è la pwd\n",
    "# che ho memorizzato prima nel repo (vedi istruzione commentata)\n",
    "database_name = \"dbtst1_medium\"\n",
    "\n",
    "# connection.update_repository(key=database_name, value=credential) \n",
    "repo = connection.get_repository(key=database_name)"
   ]
  },
  {
   "cell_type": "code",
   "execution_count": 6,
   "id": "2d35490d",
   "metadata": {},
   "outputs": [],
   "source": [
    "# import the wallet\n",
    "wallet_path = os.path.join(os.path.expanduser(\"~/data-science-bp\"), f\"Wallet_{database_name}.zip\")\n",
    "\n",
    "connection.import_wallet(wallet_path=wallet_path, key=database_name)"
   ]
  },
  {
   "cell_type": "code",
   "execution_count": 7,
   "id": "6b0ac656",
   "metadata": {},
   "outputs": [
    {
     "name": "stdout",
     "output_type": "stream",
     "text": [
      "{'database_type': 'oracle', 'database_name': 'dbtst1_medium', 'username': 'DEMO1', 'password': 'Pippo12345::'}\n",
      "\n",
      "Connector uri is: oracle+cx_oracle://DEMO1:Pippo12345::@dbtst1_medium\n"
     ]
    }
   ],
   "source": [
    "if \"database_name\" in globals() and database_name != '<database_name>':\n",
    "    connector = Connector(key=database_name)\n",
    "    \n",
    "    print(connector.config)\n",
    "    print()\n",
    "    print(f'Connector uri is: {connector.uri}')\n",
    "else:\n",
    "    print(\"Skipping as it appears that you do not have database_name configured.\")"
   ]
  },
  {
   "cell_type": "code",
   "execution_count": 17,
   "id": "64ba3647",
   "metadata": {},
   "outputs": [],
   "source": [
    "#\n",
    "# Here: definisco la query che voglio eseguire sul DB\n",
    "#\n",
    "query = \"\"\"\n",
    "    SELECT * from CUSTOMERS where rownum < 50\n",
    "    \"\"\""
   ]
  },
  {
   "cell_type": "code",
   "execution_count": 18,
   "id": "8111b538",
   "metadata": {},
   "outputs": [
    {
     "data": {
      "application/vnd.jupyter.widget-view+json": {
       "model_id": "737ca85aecf04fe8bc3f638bafbc037d",
       "version_major": 2,
       "version_minor": 0
      },
      "text/plain": [
       "loop1:   0%|          | 0/4 [00:00<?, ?it/s]"
      ]
     },
     "metadata": {},
     "output_type": "display_data"
    },
    {
     "name": "stderr",
     "output_type": "stream",
     "text": [
      "\n",
      "49 rows [00:00, 3785.61 rows/s]\n"
     ]
    },
    {
     "name": "stdout",
     "output_type": "stream",
     "text": [
      "CPU times: user 408 ms, sys: 40.5 ms, total: 449 ms\n",
      "Wall time: 1.53 s\n"
     ]
    }
   ],
   "source": [
    "%%time\n",
    "\n",
    "# eseguo la query e carico tutto in un Pandas DataFrame\n",
    "customers_df = DatasetFactory.open(connector.uri, format=\"sql\", \n",
    "                                     table=query)"
   ]
  },
  {
   "cell_type": "code",
   "execution_count": 11,
   "id": "dd9eb7bc",
   "metadata": {},
   "outputs": [
    {
     "data": {
      "text/plain": [
       "ads.dataset.dataset.ADSDataset"
      ]
     },
     "execution_count": 11,
     "metadata": {},
     "output_type": "execute_result"
    }
   ],
   "source": [
    "type(customers_df)"
   ]
  },
  {
   "cell_type": "code",
   "execution_count": 12,
   "id": "8206536e",
   "metadata": {},
   "outputs": [],
   "source": [
    "df = customers_df.to_pandas_dataframe()"
   ]
  },
  {
   "cell_type": "code",
   "execution_count": 13,
   "id": "425c70a1",
   "metadata": {},
   "outputs": [
    {
     "data": {
      "text/plain": [
       "pandas.core.frame.DataFrame"
      ]
     },
     "execution_count": 13,
     "metadata": {},
     "output_type": "execute_result"
    }
   ],
   "source": [
    "type(df)"
   ]
  },
  {
   "cell_type": "code",
   "execution_count": 15,
   "id": "42d0f391",
   "metadata": {},
   "outputs": [
    {
     "data": {
      "application/vnd.jupyter.widget-view+json": {
       "model_id": "acf2f851f8ae49bb922a034aa62edc64",
       "version_major": 2,
       "version_minor": 0
      },
      "text/plain": [
       "HTML(value='\\n        <style>\\n            .mostly-customized-scrollbar {\\n              display: block;\\n    …"
      ]
     },
     "metadata": {},
     "output_type": "display_data"
    },
    {
     "data": {
      "text/plain": [
       "10 rows, 23 columns"
      ]
     },
     "execution_count": 15,
     "metadata": {},
     "output_type": "execute_result"
    }
   ],
   "source": [
    "customers_df.tail(10)"
   ]
  },
  {
   "cell_type": "code",
   "execution_count": 19,
   "id": "b53ea351",
   "metadata": {},
   "outputs": [
    {
     "name": "stdout",
     "output_type": "stream",
     "text": [
      "The number of records read is 49\n"
     ]
    }
   ],
   "source": [
    "print(f'The number of records read is {customers_df.shape[0]}')"
   ]
  },
  {
   "cell_type": "code",
   "execution_count": null,
   "id": "21d829d2",
   "metadata": {},
   "outputs": [],
   "source": []
  }
 ],
 "metadata": {
  "kernelspec": {
   "display_name": "Python [conda env:generalml_p37_gpu_v1]",
   "language": "python",
   "name": "conda-env-generalml_p37_gpu_v1-py"
  },
  "language_info": {
   "codemirror_mode": {
    "name": "ipython",
    "version": 3
   },
   "file_extension": ".py",
   "mimetype": "text/x-python",
   "name": "python",
   "nbconvert_exporter": "python",
   "pygments_lexer": "ipython3",
   "version": "3.7.12"
  }
 },
 "nbformat": 4,
 "nbformat_minor": 5
}
