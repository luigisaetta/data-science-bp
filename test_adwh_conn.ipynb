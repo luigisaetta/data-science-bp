{
 "cells": [
  {
   "cell_type": "markdown",
   "id": "45bd6839",
   "metadata": {},
   "source": [
    "### Test ADWH connection"
   ]
  },
  {
   "cell_type": "code",
   "execution_count": 1,
   "id": "705dbab9",
   "metadata": {},
   "outputs": [],
   "source": [
    "import cx_Oracle as cxo\n",
    "\n",
    "from ads.database import connection \n",
    "from ads.database.connection import Connector\n",
    "from ads.dataset.factory import DatasetFactory\n",
    "from ads.vault.vault import Vault\n",
    "from sqlalchemy import create_engine\n",
    "from urllib.request import urlopen\n",
    "import os\n",
    "import warnings\n",
    "import logging\n",
    "\n",
    "warnings.filterwarnings(\"ignore\", category=DeprecationWarning) \n",
    "logging.basicConfig(format='%(levelname)s:%(message)s', level=logging.INFO)"
   ]
  },
  {
   "cell_type": "code",
   "execution_count": 2,
   "id": "30f333e2",
   "metadata": {},
   "outputs": [
    {
     "name": "stdout",
     "output_type": "stream",
     "text": [
      "8.3.0\n"
     ]
    }
   ],
   "source": [
    "print(cxo.__version__)"
   ]
  },
  {
   "cell_type": "code",
   "execution_count": 3,
   "id": "e6395990",
   "metadata": {},
   "outputs": [],
   "source": [
    "#credential = {'database_name': 'dbtst1_medium', \n",
    "#              'username': 'DEMO1', \n",
    "#              'password': 'Pippo12345::',\n",
    "#              'database_type':'oracle'}"
   ]
  },
  {
   "cell_type": "code",
   "execution_count": 4,
   "id": "f8966ae6",
   "metadata": {},
   "outputs": [
    {
     "data": {
      "text/plain": [
       "{'database_type': 'oracle',\n",
       " 'database_name': 'dbtst1_medium',\n",
       " 'username': 'DEMO1',\n",
       " 'password': 'Pippo12345::'}"
      ]
     },
     "execution_count": 4,
     "metadata": {},
     "output_type": "execute_result"
    }
   ],
   "source": [
    "# memorizzo in un repository locale\n",
    "# in questo modo nel NB non c'è la pwd\n",
    "# che ho memorizzato prima nel repo (vedi istruzione commentata)\n",
    "database_name = \"dbtst1_medium\"\n",
    "\n",
    "# connection.update_repository(key=database_name, value=credential) \n",
    "connection.get_repository(key=database_name)"
   ]
  },
  {
   "cell_type": "code",
   "execution_count": 5,
   "id": "c5702653",
   "metadata": {},
   "outputs": [],
   "source": [
    "# import the wallet\n",
    "wallet_path = os.path.join(os.path.expanduser(\"~/data-science-bp\"), f\"Wallet_{database_name}.zip\")\n",
    "\n",
    "if database_name != \"<database_name>\":\n",
    "    connection.import_wallet(wallet_path=wallet_path, key=database_name)"
   ]
  },
  {
   "cell_type": "code",
   "execution_count": 6,
   "id": "62f0745a",
   "metadata": {},
   "outputs": [],
   "source": [
    "if \"database_name\" in globals() and database_name != '<database_name>':\n",
    "    connector = Connector(key=database_name)\n",
    "else:\n",
    "    print(\"Skipping as it appears that you do not have database_name configured.\")"
   ]
  },
  {
   "cell_type": "code",
   "execution_count": 7,
   "id": "8e0c931b",
   "metadata": {},
   "outputs": [
    {
     "name": "stdout",
     "output_type": "stream",
     "text": [
      "{'database_type': 'oracle', 'database_name': 'dbtst1_medium', 'username': 'DEMO1', 'password': 'Pippo12345::'}\n"
     ]
    }
   ],
   "source": [
    "if \"connector\" in globals():\n",
    "    print(connector.config)\n",
    "else:\n",
    "    print(\"Skipping as it appears that you do not have connector configured.\")"
   ]
  },
  {
   "cell_type": "code",
   "execution_count": 8,
   "id": "c315c9f4",
   "metadata": {},
   "outputs": [],
   "source": [
    "query = \"\"\"\n",
    "    SELECT * from CUSTOMERS\n",
    "    \"\"\""
   ]
  },
  {
   "cell_type": "code",
   "execution_count": 9,
   "id": "b5d45c0e",
   "metadata": {},
   "outputs": [
    {
     "name": "stdout",
     "output_type": "stream",
     "text": [
      "uri is: oracle+cx_oracle://DEMO1:Pippo12345::@dbtst1_medium\n"
     ]
    },
    {
     "data": {
      "application/vnd.jupyter.widget-view+json": {
       "model_id": "b4c87d3c1abc43e3981042414886fa37",
       "version_major": 2,
       "version_minor": 0
      },
      "text/plain": [
       "loop1:   0%|          | 0/4 [00:00<?, ?it/s]"
      ]
     },
     "metadata": {},
     "output_type": "display_data"
    },
    {
     "name": "stderr",
     "output_type": "stream",
     "text": [
      "\n",
      "0 rows [00:00, ? rows/s]\u001b[A\n",
      "12007 rows [00:00, 24132.53 rows/s]\u001b[A\n",
      "24014 rows [00:00, 35401.45 rows/s]\u001b[A\n",
      "36021 rows [00:00, 39528.61 rows/s]\u001b[A\n",
      "48028 rows [00:01, 39707.88 rows/s]\u001b[A\n",
      "55500 rows [00:01, 34881.22 rows/s]\u001b[A\n"
     ]
    },
    {
     "name": "stdout",
     "output_type": "stream",
     "text": [
      "CPU times: user 2.91 s, sys: 206 ms, total: 3.12 s\n",
      "Wall time: 3.42 s\n"
     ]
    }
   ],
   "source": [
    "%%time\n",
    "if \"connector\" in globals():\n",
    "    print(f'uri is: {connector.uri}')\n",
    "    \n",
    "    customers = DatasetFactory.open(connector.uri, format=\"sql\", \n",
    "                                     table=query)\n",
    "else:\n",
    "    print(\"Skipping as it appears that you do not have connector configured.\")"
   ]
  },
  {
   "cell_type": "code",
   "execution_count": 10,
   "id": "3428ff7c",
   "metadata": {},
   "outputs": [
    {
     "data": {
      "text/html": [
       "<div>\n",
       "<style scoped>\n",
       "    .dataframe tbody tr th:only-of-type {\n",
       "        vertical-align: middle;\n",
       "    }\n",
       "\n",
       "    .dataframe tbody tr th {\n",
       "        vertical-align: top;\n",
       "    }\n",
       "\n",
       "    .dataframe thead th {\n",
       "        text-align: right;\n",
       "    }\n",
       "</style>\n",
       "<table border=\"1\" class=\"dataframe\">\n",
       "  <thead>\n",
       "    <tr style=\"text-align: right;\">\n",
       "      <th></th>\n",
       "      <th>cust_id</th>\n",
       "      <th>cust_first_name</th>\n",
       "      <th>cust_last_name</th>\n",
       "      <th>cust_gender</th>\n",
       "      <th>cust_year_of_birth</th>\n",
       "      <th>cust_marital_status</th>\n",
       "      <th>cust_street_address</th>\n",
       "      <th>cust_postal_code</th>\n",
       "      <th>cust_city</th>\n",
       "      <th>cust_city_id</th>\n",
       "      <th>...</th>\n",
       "      <th>cust_main_phone_number</th>\n",
       "      <th>cust_income_level</th>\n",
       "      <th>cust_credit_limit</th>\n",
       "      <th>cust_email</th>\n",
       "      <th>cust_total</th>\n",
       "      <th>cust_total_id</th>\n",
       "      <th>cust_src_id</th>\n",
       "      <th>cust_eff_from</th>\n",
       "      <th>cust_eff_to</th>\n",
       "      <th>cust_valid</th>\n",
       "    </tr>\n",
       "  </thead>\n",
       "  <tbody>\n",
       "    <tr>\n",
       "      <th>0</th>\n",
       "      <td>49671</td>\n",
       "      <td>Abigail</td>\n",
       "      <td>Ruddy</td>\n",
       "      <td>M</td>\n",
       "      <td>1976</td>\n",
       "      <td>married</td>\n",
       "      <td>27 North Sagadahoc Boulevard</td>\n",
       "      <td>60332</td>\n",
       "      <td>Ede</td>\n",
       "      <td>51442</td>\n",
       "      <td>...</td>\n",
       "      <td>519-236-6123</td>\n",
       "      <td>G: 130,000 - 149,999</td>\n",
       "      <td>1500</td>\n",
       "      <td>Ruddy@company.example.com</td>\n",
       "      <td>Customer total</td>\n",
       "      <td>52772</td>\n",
       "      <td>None</td>\n",
       "      <td>1998-01-01</td>\n",
       "      <td>None</td>\n",
       "      <td>I</td>\n",
       "    </tr>\n",
       "    <tr>\n",
       "      <th>1</th>\n",
       "      <td>3228</td>\n",
       "      <td>Abigail</td>\n",
       "      <td>Ruddy</td>\n",
       "      <td>M</td>\n",
       "      <td>1964</td>\n",
       "      <td>None</td>\n",
       "      <td>37 West Geneva Street</td>\n",
       "      <td>55406</td>\n",
       "      <td>Hoofddorp</td>\n",
       "      <td>51669</td>\n",
       "      <td>...</td>\n",
       "      <td>327-194-5008</td>\n",
       "      <td>G: 130,000 - 149,999</td>\n",
       "      <td>7000</td>\n",
       "      <td>Ruddy@company.example.com</td>\n",
       "      <td>Customer total</td>\n",
       "      <td>52772</td>\n",
       "      <td>None</td>\n",
       "      <td>1998-01-01</td>\n",
       "      <td>None</td>\n",
       "      <td>A</td>\n",
       "    </tr>\n",
       "    <tr>\n",
       "      <th>2</th>\n",
       "      <td>6783</td>\n",
       "      <td>Abigail</td>\n",
       "      <td>Ruddy</td>\n",
       "      <td>M</td>\n",
       "      <td>1942</td>\n",
       "      <td>single</td>\n",
       "      <td>47 Toa Alta Road</td>\n",
       "      <td>34077</td>\n",
       "      <td>Schimmert</td>\n",
       "      <td>52297</td>\n",
       "      <td>...</td>\n",
       "      <td>288-613-9676</td>\n",
       "      <td>G: 130,000 - 149,999</td>\n",
       "      <td>11000</td>\n",
       "      <td>Ruddy@company.example.com</td>\n",
       "      <td>Customer total</td>\n",
       "      <td>52772</td>\n",
       "      <td>None</td>\n",
       "      <td>1998-01-01</td>\n",
       "      <td>None</td>\n",
       "      <td>I</td>\n",
       "    </tr>\n",
       "    <tr>\n",
       "      <th>3</th>\n",
       "      <td>10338</td>\n",
       "      <td>Abigail</td>\n",
       "      <td>Ruddy</td>\n",
       "      <td>M</td>\n",
       "      <td>1977</td>\n",
       "      <td>married</td>\n",
       "      <td>47 South Kanabec Road</td>\n",
       "      <td>72996</td>\n",
       "      <td>Scheveningen</td>\n",
       "      <td>52296</td>\n",
       "      <td>...</td>\n",
       "      <td>222-269-1259</td>\n",
       "      <td>G: 130,000 - 149,999</td>\n",
       "      <td>1500</td>\n",
       "      <td>Ruddy@company.example.com</td>\n",
       "      <td>Customer total</td>\n",
       "      <td>52772</td>\n",
       "      <td>None</td>\n",
       "      <td>1998-01-01</td>\n",
       "      <td>None</td>\n",
       "      <td>I</td>\n",
       "    </tr>\n",
       "    <tr>\n",
       "      <th>4</th>\n",
       "      <td>13894</td>\n",
       "      <td>Abigail</td>\n",
       "      <td>Ruddy</td>\n",
       "      <td>M</td>\n",
       "      <td>1949</td>\n",
       "      <td>None</td>\n",
       "      <td>57 North 3rd Drive</td>\n",
       "      <td>67644</td>\n",
       "      <td>Joinville</td>\n",
       "      <td>51698</td>\n",
       "      <td>...</td>\n",
       "      <td>675-133-2226</td>\n",
       "      <td>G: 130,000 - 149,999</td>\n",
       "      <td>9000</td>\n",
       "      <td>Ruddy@company.example.com</td>\n",
       "      <td>Customer total</td>\n",
       "      <td>52772</td>\n",
       "      <td>None</td>\n",
       "      <td>1998-01-01</td>\n",
       "      <td>None</td>\n",
       "      <td>I</td>\n",
       "    </tr>\n",
       "  </tbody>\n",
       "</table>\n",
       "<p>5 rows × 23 columns</p>\n",
       "</div>"
      ],
      "text/plain": [
       "   cust_id cust_first_name cust_last_name cust_gender  cust_year_of_birth  \\\n",
       "0    49671         Abigail          Ruddy           M                1976   \n",
       "1     3228         Abigail          Ruddy           M                1964   \n",
       "2     6783         Abigail          Ruddy           M                1942   \n",
       "3    10338         Abigail          Ruddy           M                1977   \n",
       "4    13894         Abigail          Ruddy           M                1949   \n",
       "\n",
       "  cust_marital_status           cust_street_address cust_postal_code  \\\n",
       "0             married  27 North Sagadahoc Boulevard            60332   \n",
       "1                None         37 West Geneva Street            55406   \n",
       "2              single              47 Toa Alta Road            34077   \n",
       "3             married         47 South Kanabec Road            72996   \n",
       "4                None            57 North 3rd Drive            67644   \n",
       "\n",
       "      cust_city  cust_city_id  ... cust_main_phone_number  \\\n",
       "0           Ede         51442  ...           519-236-6123   \n",
       "1     Hoofddorp         51669  ...           327-194-5008   \n",
       "2     Schimmert         52297  ...           288-613-9676   \n",
       "3  Scheveningen         52296  ...           222-269-1259   \n",
       "4     Joinville         51698  ...           675-133-2226   \n",
       "\n",
       "      cust_income_level  cust_credit_limit                 cust_email  \\\n",
       "0  G: 130,000 - 149,999               1500  Ruddy@company.example.com   \n",
       "1  G: 130,000 - 149,999               7000  Ruddy@company.example.com   \n",
       "2  G: 130,000 - 149,999              11000  Ruddy@company.example.com   \n",
       "3  G: 130,000 - 149,999               1500  Ruddy@company.example.com   \n",
       "4  G: 130,000 - 149,999               9000  Ruddy@company.example.com   \n",
       "\n",
       "       cust_total  cust_total_id cust_src_id cust_eff_from  cust_eff_to  \\\n",
       "0  Customer total          52772        None    1998-01-01         None   \n",
       "1  Customer total          52772        None    1998-01-01         None   \n",
       "2  Customer total          52772        None    1998-01-01         None   \n",
       "3  Customer total          52772        None    1998-01-01         None   \n",
       "4  Customer total          52772        None    1998-01-01         None   \n",
       "\n",
       "  cust_valid  \n",
       "0          I  \n",
       "1          A  \n",
       "2          I  \n",
       "3          I  \n",
       "4          I  \n",
       "\n",
       "[5 rows x 23 columns]"
      ]
     },
     "execution_count": 10,
     "metadata": {},
     "output_type": "execute_result"
    }
   ],
   "source": [
    "customers.head()"
   ]
  },
  {
   "cell_type": "code",
   "execution_count": 11,
   "id": "2c90e526",
   "metadata": {},
   "outputs": [
    {
     "data": {
      "text/plain": [
       "(55500, 23)"
      ]
     },
     "execution_count": 11,
     "metadata": {},
     "output_type": "execute_result"
    }
   ],
   "source": [
    "customers.shape"
   ]
  },
  {
   "cell_type": "code",
   "execution_count": null,
   "id": "d070c23b",
   "metadata": {},
   "outputs": [],
   "source": []
  }
 ],
 "metadata": {
  "kernelspec": {
   "display_name": "Python [conda env:generalml_p37_gpu_v1]",
   "language": "python",
   "name": "conda-env-generalml_p37_gpu_v1-py"
  },
  "language_info": {
   "codemirror_mode": {
    "name": "ipython",
    "version": 3
   },
   "file_extension": ".py",
   "mimetype": "text/x-python",
   "name": "python",
   "nbconvert_exporter": "python",
   "pygments_lexer": "ipython3",
   "version": "3.7.12"
  }
 },
 "nbformat": 4,
 "nbformat_minor": 5
}
