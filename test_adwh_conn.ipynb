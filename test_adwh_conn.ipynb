{
 "cells": [
  {
   "cell_type": "markdown",
   "id": "c50ff8ef",
   "metadata": {},
   "source": [
    "### Test ADWH connection\n",
    "\n",
    "* simplified from the versione inside Conda NB"
   ]
  },
  {
   "cell_type": "code",
   "execution_count": 1,
   "id": "71aff277",
   "metadata": {},
   "outputs": [],
   "source": [
    "import cx_Oracle as cxo\n",
    "import ads\n",
    "\n",
    "from ads.database import connection\n",
    "from ads.database.connection import Connector\n",
    "from ads.dataset.factory import DatasetFactory\n",
    "from sqlalchemy import create_engine\n",
    "from urllib.request import urlopen\n",
    "import os\n",
    "import warnings\n",
    "import logging\n",
    "\n",
    "import pandas as pd\n",
    "\n",
    "warnings.filterwarnings(\"ignore\", category=DeprecationWarning)\n",
    "logging.basicConfig(format=\"%(levelname)s:%(message)s\", level=logging.INFO)"
   ]
  },
  {
   "cell_type": "code",
   "execution_count": 2,
   "id": "b0402c7d",
   "metadata": {},
   "outputs": [
    {
     "name": "stdout",
     "output_type": "stream",
     "text": [
      "8.3.0\n"
     ]
    }
   ],
   "source": [
    "print(cxo.__version__)"
   ]
  },
  {
   "cell_type": "code",
   "execution_count": 3,
   "id": "257852f5",
   "metadata": {},
   "outputs": [
    {
     "name": "stdout",
     "output_type": "stream",
     "text": [
      "2.5.7\n"
     ]
    }
   ],
   "source": [
    "print(ads.__version__)"
   ]
  },
  {
   "cell_type": "code",
   "execution_count": 4,
   "id": "41b9e57f",
   "metadata": {},
   "outputs": [],
   "source": [
    "# credential = {'database_name': 'dbtst1_medium',\n",
    "#              'username': 'DEMO1',\n",
    "#              'password': 'Pippo12345::',\n",
    "#              'database_type':'oracle'}"
   ]
  },
  {
   "cell_type": "code",
   "execution_count": 5,
   "id": "9fea6c29",
   "metadata": {},
   "outputs": [],
   "source": [
    "# memorizzo in un repository locale\n",
    "# in questo modo nel NB non c'è la pwd\n",
    "# che ho memorizzato prima nel repo (vedi istruzione commentata)\n",
    "database_name = \"dbtst1_medium\"\n",
    "\n",
    "# connection.update_repository(key=database_name, value=credential)\n",
    "repo = connection.get_repository(key=database_name)"
   ]
  },
  {
   "cell_type": "code",
   "execution_count": 6,
   "id": "b7fc46e3",
   "metadata": {},
   "outputs": [],
   "source": [
    "# import the wallet\n",
    "wallet_path = os.path.join(\n",
    "    os.path.expanduser(\"~/data-science-bp\"), f\"Wallet_{database_name}.zip\"\n",
    ")\n",
    "\n",
    "connection.import_wallet(wallet_path=wallet_path, key=database_name)"
   ]
  },
  {
   "cell_type": "code",
   "execution_count": 7,
   "id": "83f41c4b",
   "metadata": {},
   "outputs": [
    {
     "name": "stdout",
     "output_type": "stream",
     "text": [
      "{'database_type': 'oracle', 'database_name': 'dbtst1_medium', 'username': 'DEMO1', 'password': 'Pippo12345::'}\n",
      "\n",
      "Connector uri is: oracle+cx_oracle://DEMO1:Pippo12345::@dbtst1_medium\n"
     ]
    }
   ],
   "source": [
    "if \"database_name\" in globals() and database_name != \"<database_name>\":\n",
    "    connector = Connector(key=database_name)\n",
    "\n",
    "    print(connector.config)\n",
    "    print()\n",
    "    print(f\"Connector uri is: {connector.uri}\")\n",
    "else:\n",
    "    print(\"Skipping as it appears that you do not have database_name configured.\")"
   ]
  },
  {
   "cell_type": "code",
   "execution_count": 8,
   "id": "7981439a",
   "metadata": {},
   "outputs": [],
   "source": [
    "#\n",
    "# Here: definisco la query che voglio eseguire sul DB\n",
    "#\n",
    "query = \"\"\"\n",
    "    SELECT * from CUSTOMERS where rownum < 50\n",
    "    \"\"\""
   ]
  },
  {
   "cell_type": "code",
   "execution_count": 9,
   "id": "7a203af2",
   "metadata": {},
   "outputs": [
    {
     "data": {
      "application/vnd.jupyter.widget-view+json": {
       "model_id": "e796b2c4eb6b4b9d88769f4e6bc30b54",
       "version_major": 2,
       "version_minor": 0
      },
      "text/plain": [
       "loop1:   0%|          | 0/4 [00:00<?, ?it/s]"
      ]
     },
     "metadata": {},
     "output_type": "display_data"
    },
    {
     "name": "stderr",
     "output_type": "stream",
     "text": [
      "\n",
      "49 rows [00:00, 4556.20 rows/s]\n"
     ]
    },
    {
     "name": "stdout",
     "output_type": "stream",
     "text": [
      "CPU times: user 425 ms, sys: 55.8 ms, total: 480 ms\n",
      "Wall time: 753 ms\n"
     ]
    }
   ],
   "source": [
    "%%time\n",
    "\n",
    "# eseguo la query e carico tutto in un Pandas DataFrame\n",
    "customers_df = DatasetFactory.open(connector.uri, format=\"sql\", table=query)"
   ]
  },
  {
   "cell_type": "code",
   "execution_count": 10,
   "id": "27b61267",
   "metadata": {},
   "outputs": [
    {
     "data": {
      "text/plain": [
       "ads.dataset.dataset.ADSDataset"
      ]
     },
     "execution_count": 10,
     "metadata": {},
     "output_type": "execute_result"
    }
   ],
   "source": [
    "type(customers_df)"
   ]
  },
  {
   "cell_type": "code",
   "execution_count": 11,
   "id": "40d86b7d",
   "metadata": {},
   "outputs": [],
   "source": [
    "df = customers_df.to_pandas_dataframe()"
   ]
  },
  {
   "cell_type": "code",
   "execution_count": 12,
   "id": "33a9c71e",
   "metadata": {},
   "outputs": [
    {
     "data": {
      "text/plain": [
       "pandas.core.frame.DataFrame"
      ]
     },
     "execution_count": 12,
     "metadata": {},
     "output_type": "execute_result"
    }
   ],
   "source": [
    "type(df)"
   ]
  },
  {
   "cell_type": "code",
   "execution_count": 13,
   "id": "51f0ba7e",
   "metadata": {},
   "outputs": [
    {
     "data": {
      "text/html": [
       "<div>\n",
       "<style scoped>\n",
       "    .dataframe tbody tr th:only-of-type {\n",
       "        vertical-align: middle;\n",
       "    }\n",
       "\n",
       "    .dataframe tbody tr th {\n",
       "        vertical-align: top;\n",
       "    }\n",
       "\n",
       "    .dataframe thead th {\n",
       "        text-align: right;\n",
       "    }\n",
       "</style>\n",
       "<table border=\"1\" class=\"dataframe\">\n",
       "  <thead>\n",
       "    <tr style=\"text-align: right;\">\n",
       "      <th></th>\n",
       "      <th>cust_id</th>\n",
       "      <th>cust_first_name</th>\n",
       "      <th>cust_last_name</th>\n",
       "      <th>cust_gender</th>\n",
       "      <th>cust_year_of_birth</th>\n",
       "      <th>cust_marital_status</th>\n",
       "      <th>cust_street_address</th>\n",
       "      <th>cust_postal_code</th>\n",
       "      <th>cust_city</th>\n",
       "      <th>cust_city_id</th>\n",
       "      <th>...</th>\n",
       "      <th>cust_main_phone_number</th>\n",
       "      <th>cust_income_level</th>\n",
       "      <th>cust_credit_limit</th>\n",
       "      <th>cust_email</th>\n",
       "      <th>cust_total</th>\n",
       "      <th>cust_total_id</th>\n",
       "      <th>cust_src_id</th>\n",
       "      <th>cust_eff_from</th>\n",
       "      <th>cust_eff_to</th>\n",
       "      <th>cust_valid</th>\n",
       "    </tr>\n",
       "  </thead>\n",
       "  <tbody>\n",
       "    <tr>\n",
       "      <th>39</th>\n",
       "      <td>28117</td>\n",
       "      <td>Abner</td>\n",
       "      <td>Kenney</td>\n",
       "      <td>M</td>\n",
       "      <td>1957</td>\n",
       "      <td>None</td>\n",
       "      <td>87 West Covington Avenue</td>\n",
       "      <td>83967</td>\n",
       "      <td>Tilburg</td>\n",
       "      <td>52369</td>\n",
       "      <td>...</td>\n",
       "      <td>636-716-9795</td>\n",
       "      <td>K: 250,000 - 299,999</td>\n",
       "      <td>15000</td>\n",
       "      <td>Kenney@company.example.com</td>\n",
       "      <td>Customer total</td>\n",
       "      <td>52772</td>\n",
       "      <td>None</td>\n",
       "      <td>1998-01-01</td>\n",
       "      <td>None</td>\n",
       "      <td>I</td>\n",
       "    </tr>\n",
       "    <tr>\n",
       "      <th>40</th>\n",
       "      <td>31672</td>\n",
       "      <td>Abner</td>\n",
       "      <td>Kenney</td>\n",
       "      <td>M</td>\n",
       "      <td>1950</td>\n",
       "      <td>single</td>\n",
       "      <td>97 Saguache Avenue</td>\n",
       "      <td>33415</td>\n",
       "      <td>Pala</td>\n",
       "      <td>52101</td>\n",
       "      <td>...</td>\n",
       "      <td>569-349-9468</td>\n",
       "      <td>K: 250,000 - 299,999</td>\n",
       "      <td>11000</td>\n",
       "      <td>Kenney@company.example.com</td>\n",
       "      <td>Customer total</td>\n",
       "      <td>52772</td>\n",
       "      <td>None</td>\n",
       "      <td>1998-01-01</td>\n",
       "      <td>None</td>\n",
       "      <td>I</td>\n",
       "    </tr>\n",
       "    <tr>\n",
       "      <th>41</th>\n",
       "      <td>35228</td>\n",
       "      <td>Abner</td>\n",
       "      <td>Kenney</td>\n",
       "      <td>M</td>\n",
       "      <td>1952</td>\n",
       "      <td>married</td>\n",
       "      <td>97 South Gloucester Avenue</td>\n",
       "      <td>59862</td>\n",
       "      <td>Malaga</td>\n",
       "      <td>51894</td>\n",
       "      <td>...</td>\n",
       "      <td>537-204-8513</td>\n",
       "      <td>K: 250,000 - 299,999</td>\n",
       "      <td>7000</td>\n",
       "      <td>Kenney@company.example.com</td>\n",
       "      <td>Customer total</td>\n",
       "      <td>52772</td>\n",
       "      <td>None</td>\n",
       "      <td>1998-01-01</td>\n",
       "      <td>None</td>\n",
       "      <td>I</td>\n",
       "    </tr>\n",
       "    <tr>\n",
       "      <th>42</th>\n",
       "      <td>37006</td>\n",
       "      <td>Abner</td>\n",
       "      <td>Robbinette</td>\n",
       "      <td>M</td>\n",
       "      <td>1953</td>\n",
       "      <td>single</td>\n",
       "      <td>107 East Braxton Avenue</td>\n",
       "      <td>61189</td>\n",
       "      <td>Evinston</td>\n",
       "      <td>51459</td>\n",
       "      <td>...</td>\n",
       "      <td>572-711-6909</td>\n",
       "      <td>K: 250,000 - 299,999</td>\n",
       "      <td>11000</td>\n",
       "      <td>Robbinette@company.example.com</td>\n",
       "      <td>Customer total</td>\n",
       "      <td>52772</td>\n",
       "      <td>None</td>\n",
       "      <td>1998-01-01</td>\n",
       "      <td>None</td>\n",
       "      <td>I</td>\n",
       "    </tr>\n",
       "    <tr>\n",
       "      <th>43</th>\n",
       "      <td>40561</td>\n",
       "      <td>Abner</td>\n",
       "      <td>Robbinette</td>\n",
       "      <td>M</td>\n",
       "      <td>1959</td>\n",
       "      <td>married</td>\n",
       "      <td>107 South Page Avenue</td>\n",
       "      <td>48346</td>\n",
       "      <td>Noma</td>\n",
       "      <td>51985</td>\n",
       "      <td>...</td>\n",
       "      <td>159-716-9696</td>\n",
       "      <td>K: 250,000 - 299,999</td>\n",
       "      <td>7000</td>\n",
       "      <td>Robbinette@company.example.com</td>\n",
       "      <td>Customer total</td>\n",
       "      <td>52772</td>\n",
       "      <td>None</td>\n",
       "      <td>1998-01-01</td>\n",
       "      <td>None</td>\n",
       "      <td>I</td>\n",
       "    </tr>\n",
       "    <tr>\n",
       "      <th>44</th>\n",
       "      <td>44116</td>\n",
       "      <td>Abner</td>\n",
       "      <td>Robbinette</td>\n",
       "      <td>M</td>\n",
       "      <td>1956</td>\n",
       "      <td>None</td>\n",
       "      <td>117 North Covington Avenue</td>\n",
       "      <td>59411</td>\n",
       "      <td>Henley-on-Thames</td>\n",
       "      <td>51659</td>\n",
       "      <td>...</td>\n",
       "      <td>527-349-4493</td>\n",
       "      <td>K: 250,000 - 299,999</td>\n",
       "      <td>15000</td>\n",
       "      <td>Robbinette@company.example.com</td>\n",
       "      <td>Customer total</td>\n",
       "      <td>52772</td>\n",
       "      <td>None</td>\n",
       "      <td>1998-01-01</td>\n",
       "      <td>None</td>\n",
       "      <td>I</td>\n",
       "    </tr>\n",
       "    <tr>\n",
       "      <th>45</th>\n",
       "      <td>34359</td>\n",
       "      <td>Abner</td>\n",
       "      <td>Robbinette</td>\n",
       "      <td>M</td>\n",
       "      <td>1971</td>\n",
       "      <td>married</td>\n",
       "      <td>17 North Kaufman Court</td>\n",
       "      <td>54845</td>\n",
       "      <td>Haswell</td>\n",
       "      <td>51651</td>\n",
       "      <td>...</td>\n",
       "      <td>593-349-9980</td>\n",
       "      <td>K: 250,000 - 299,999</td>\n",
       "      <td>11000</td>\n",
       "      <td>Robbinette@company.example.com</td>\n",
       "      <td>Customer total</td>\n",
       "      <td>52772</td>\n",
       "      <td>None</td>\n",
       "      <td>1998-01-01</td>\n",
       "      <td>None</td>\n",
       "      <td>I</td>\n",
       "    </tr>\n",
       "    <tr>\n",
       "      <th>46</th>\n",
       "      <td>47895</td>\n",
       "      <td>Abner</td>\n",
       "      <td>Robbinette</td>\n",
       "      <td>M</td>\n",
       "      <td>1963</td>\n",
       "      <td>married</td>\n",
       "      <td>27 West 5th Boulevard</td>\n",
       "      <td>57128</td>\n",
       "      <td>Barry</td>\n",
       "      <td>51166</td>\n",
       "      <td>...</td>\n",
       "      <td>379-204-8906</td>\n",
       "      <td>K: 250,000 - 299,999</td>\n",
       "      <td>7000</td>\n",
       "      <td>Robbinette@company.example.com</td>\n",
       "      <td>Customer total</td>\n",
       "      <td>52772</td>\n",
       "      <td>None</td>\n",
       "      <td>1998-01-01</td>\n",
       "      <td>None</td>\n",
       "      <td>I</td>\n",
       "    </tr>\n",
       "    <tr>\n",
       "      <th>47</th>\n",
       "      <td>1451</td>\n",
       "      <td>Abner</td>\n",
       "      <td>Robbinette</td>\n",
       "      <td>M</td>\n",
       "      <td>1962</td>\n",
       "      <td>single</td>\n",
       "      <td>37 Mckenzie Street</td>\n",
       "      <td>68644</td>\n",
       "      <td>Schwaebisch Gmuend</td>\n",
       "      <td>52300</td>\n",
       "      <td>...</td>\n",
       "      <td>652-226-5722</td>\n",
       "      <td>K: 250,000 - 299,999</td>\n",
       "      <td>15000</td>\n",
       "      <td>Robbinette@company.example.com</td>\n",
       "      <td>Customer total</td>\n",
       "      <td>52772</td>\n",
       "      <td>None</td>\n",
       "      <td>1998-01-01</td>\n",
       "      <td>None</td>\n",
       "      <td>A</td>\n",
       "    </tr>\n",
       "    <tr>\n",
       "      <th>48</th>\n",
       "      <td>5006</td>\n",
       "      <td>Abner</td>\n",
       "      <td>Robbinette</td>\n",
       "      <td>M</td>\n",
       "      <td>1989</td>\n",
       "      <td>None</td>\n",
       "      <td>37 South Braxton Street</td>\n",
       "      <td>82590</td>\n",
       "      <td>Warstein</td>\n",
       "      <td>52497</td>\n",
       "      <td>...</td>\n",
       "      <td>304-692-9126</td>\n",
       "      <td>K: 250,000 - 299,999</td>\n",
       "      <td>11000</td>\n",
       "      <td>Robbinette@company.example.com</td>\n",
       "      <td>Customer total</td>\n",
       "      <td>52772</td>\n",
       "      <td>None</td>\n",
       "      <td>1998-01-01</td>\n",
       "      <td>None</td>\n",
       "      <td>A</td>\n",
       "    </tr>\n",
       "  </tbody>\n",
       "</table>\n",
       "<p>10 rows × 23 columns</p>\n",
       "</div>"
      ],
      "text/plain": [
       "    cust_id cust_first_name cust_last_name cust_gender  cust_year_of_birth  \\\n",
       "39    28117           Abner         Kenney           M                1957   \n",
       "40    31672           Abner         Kenney           M                1950   \n",
       "41    35228           Abner         Kenney           M                1952   \n",
       "42    37006           Abner     Robbinette           M                1953   \n",
       "43    40561           Abner     Robbinette           M                1959   \n",
       "44    44116           Abner     Robbinette           M                1956   \n",
       "45    34359           Abner     Robbinette           M                1971   \n",
       "46    47895           Abner     Robbinette           M                1963   \n",
       "47     1451           Abner     Robbinette           M                1962   \n",
       "48     5006           Abner     Robbinette           M                1989   \n",
       "\n",
       "   cust_marital_status         cust_street_address cust_postal_code  \\\n",
       "39                None    87 West Covington Avenue            83967   \n",
       "40              single          97 Saguache Avenue            33415   \n",
       "41             married  97 South Gloucester Avenue            59862   \n",
       "42              single     107 East Braxton Avenue            61189   \n",
       "43             married       107 South Page Avenue            48346   \n",
       "44                None  117 North Covington Avenue            59411   \n",
       "45             married      17 North Kaufman Court            54845   \n",
       "46             married       27 West 5th Boulevard            57128   \n",
       "47              single          37 Mckenzie Street            68644   \n",
       "48                None     37 South Braxton Street            82590   \n",
       "\n",
       "             cust_city  cust_city_id  ... cust_main_phone_number  \\\n",
       "39             Tilburg         52369  ...           636-716-9795   \n",
       "40                Pala         52101  ...           569-349-9468   \n",
       "41              Malaga         51894  ...           537-204-8513   \n",
       "42            Evinston         51459  ...           572-711-6909   \n",
       "43                Noma         51985  ...           159-716-9696   \n",
       "44    Henley-on-Thames         51659  ...           527-349-4493   \n",
       "45             Haswell         51651  ...           593-349-9980   \n",
       "46               Barry         51166  ...           379-204-8906   \n",
       "47  Schwaebisch Gmuend         52300  ...           652-226-5722   \n",
       "48            Warstein         52497  ...           304-692-9126   \n",
       "\n",
       "       cust_income_level  cust_credit_limit                      cust_email  \\\n",
       "39  K: 250,000 - 299,999              15000      Kenney@company.example.com   \n",
       "40  K: 250,000 - 299,999              11000      Kenney@company.example.com   \n",
       "41  K: 250,000 - 299,999               7000      Kenney@company.example.com   \n",
       "42  K: 250,000 - 299,999              11000  Robbinette@company.example.com   \n",
       "43  K: 250,000 - 299,999               7000  Robbinette@company.example.com   \n",
       "44  K: 250,000 - 299,999              15000  Robbinette@company.example.com   \n",
       "45  K: 250,000 - 299,999              11000  Robbinette@company.example.com   \n",
       "46  K: 250,000 - 299,999               7000  Robbinette@company.example.com   \n",
       "47  K: 250,000 - 299,999              15000  Robbinette@company.example.com   \n",
       "48  K: 250,000 - 299,999              11000  Robbinette@company.example.com   \n",
       "\n",
       "        cust_total  cust_total_id cust_src_id cust_eff_from  cust_eff_to  \\\n",
       "39  Customer total          52772        None    1998-01-01         None   \n",
       "40  Customer total          52772        None    1998-01-01         None   \n",
       "41  Customer total          52772        None    1998-01-01         None   \n",
       "42  Customer total          52772        None    1998-01-01         None   \n",
       "43  Customer total          52772        None    1998-01-01         None   \n",
       "44  Customer total          52772        None    1998-01-01         None   \n",
       "45  Customer total          52772        None    1998-01-01         None   \n",
       "46  Customer total          52772        None    1998-01-01         None   \n",
       "47  Customer total          52772        None    1998-01-01         None   \n",
       "48  Customer total          52772        None    1998-01-01         None   \n",
       "\n",
       "   cust_valid  \n",
       "39          I  \n",
       "40          I  \n",
       "41          I  \n",
       "42          I  \n",
       "43          I  \n",
       "44          I  \n",
       "45          I  \n",
       "46          I  \n",
       "47          A  \n",
       "48          A  \n",
       "\n",
       "[10 rows x 23 columns]"
      ]
     },
     "execution_count": 13,
     "metadata": {},
     "output_type": "execute_result"
    }
   ],
   "source": [
    "df.tail(10)"
   ]
  },
  {
   "cell_type": "code",
   "execution_count": 14,
   "id": "f4985573",
   "metadata": {},
   "outputs": [
    {
     "name": "stdout",
     "output_type": "stream",
     "text": [
      "The number of records read is 49\n"
     ]
    }
   ],
   "source": [
    "print(f\"The number of records read is {customers_df.shape[0]}\")"
   ]
  },
  {
   "cell_type": "markdown",
   "id": "3fbad452",
   "metadata": {},
   "source": [
    "### Using directly Pandas (with our extensions)\n",
    "\n",
    "* idea taken from: https://github.com/oracle/accelerated-data-science"
   ]
  },
  {
   "cell_type": "code",
   "execution_count": 15,
   "id": "cd86a85f",
   "metadata": {},
   "outputs": [],
   "source": [
    "connection_parameters = {\n",
    "      \"user_name\": repo[\"username\"],\n",
    "      \"password\": repo[\"password\"],\n",
    "      \"service_name\": repo[\"database_name\"],\n",
    "      \"wallet_location\": \"/home/datascience/data-science-bp/Wallet_dbtst1_medium.zip\",\n",
    "  }\n",
    "\n",
    "df = pd.DataFrame.ads.read_sql(\n",
    "      \"SELECT * FROM CUSTOMERS\",\n",
    "      connection_parameters=connection_parameters,\n",
    "  )"
   ]
  },
  {
   "cell_type": "code",
   "execution_count": 16,
   "id": "40f579f3",
   "metadata": {},
   "outputs": [
    {
     "data": {
      "text/plain": [
       "(55500, 23)"
      ]
     },
     "execution_count": 16,
     "metadata": {},
     "output_type": "execute_result"
    }
   ],
   "source": [
    "df.shape"
   ]
  },
  {
   "cell_type": "markdown",
   "id": "270163cf",
   "metadata": {},
   "source": [
    "#### if we want to use bind variables:"
   ]
  },
  {
   "cell_type": "code",
   "execution_count": 17,
   "id": "31840bc9",
   "metadata": {},
   "outputs": [
    {
     "data": {
      "text/plain": [
       "(20, 23)"
      ]
     },
     "execution_count": 17,
     "metadata": {},
     "output_type": "execute_result"
    }
   ],
   "source": [
    "df = pd.DataFrame.ads.read_sql(\n",
    "    \"\"\"SELECT * FROM CUSTOMERS WHERE ROWNUM <= :max_rows\n",
    "    \"\"\",\n",
    "    bind_variables={\n",
    "          \"max_rows\" : 20\n",
    "      },\n",
    "    connection_parameters=connection_parameters\n",
    "  )\n",
    "\n",
    "df.shape"
   ]
  },
  {
   "cell_type": "code",
   "execution_count": null,
   "id": "d6b6e482",
   "metadata": {},
   "outputs": [],
   "source": []
  }
 ],
 "metadata": {
  "kernelspec": {
   "display_name": "Python [conda env:generalml_p37_gpu_v1]",
   "language": "python",
   "name": "conda-env-generalml_p37_gpu_v1-py"
  },
  "language_info": {
   "codemirror_mode": {
    "name": "ipython",
    "version": 3
   },
   "file_extension": ".py",
   "mimetype": "text/x-python",
   "name": "python",
   "nbconvert_exporter": "python",
   "pygments_lexer": "ipython3",
   "version": "3.7.12"
  }
 },
 "nbformat": 4,
 "nbformat_minor": 5
}
