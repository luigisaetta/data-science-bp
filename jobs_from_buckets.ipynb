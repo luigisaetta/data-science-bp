{
 "cells": [
  {
   "cell_type": "markdown",
   "id": "39405e09",
   "metadata": {},
   "source": [
    "### Launch a jobs from a python program stored on bucket"
   ]
  },
  {
   "cell_type": "code",
   "execution_count": 1,
   "id": "af2bcbf7",
   "metadata": {},
   "outputs": [],
   "source": [
    "import ads\n",
    "\n",
    "from ads.jobs import Job\n",
    "from ads.jobs import DataScienceJob\n",
    "from ads.jobs import ScriptRuntime"
   ]
  },
  {
   "cell_type": "code",
   "execution_count": 2,
   "id": "24faa86a",
   "metadata": {},
   "outputs": [
    {
     "name": "stdout",
     "output_type": "stream",
     "text": [
      "2.6.1\n"
     ]
    }
   ],
   "source": [
    "print(ads.__version__)"
   ]
  },
  {
   "cell_type": "code",
   "execution_count": 3,
   "id": "b7aaa3ed",
   "metadata": {},
   "outputs": [
    {
     "name": "stderr",
     "output_type": "stream",
     "text": [
      "WARNING:root:~/.oci/config file not exists, default value oci.config.DEFAULT_LOCATION used instead\n"
     ]
    }
   ],
   "source": [
    "ads.set_auth(auth='resource_principal')"
   ]
  },
  {
   "cell_type": "code",
   "execution_count": 4,
   "id": "ed6cf020",
   "metadata": {},
   "outputs": [],
   "source": [
    "NAMESPACE = \"frqap2zhtzbe\"\n",
    "\n",
    "# this is the bucket from Object Storage\n",
    "BUCKET = \"jobs_input\"\n",
    "# This is the Python program stored in the bucket \n",
    "SCRIPT = \"jobs1.py\"\n",
    "\n",
    "runtime = (\n",
    "    ScriptRuntime()\n",
    "    .with_source(f\"oci://{BUCKET}@{NAMESPACE}/{SCRIPT}\")\n",
    "    .with_custom_conda(\"oci://jobs_conda_envs@frqap2zhtzbe/conda_environments/gpu/generalml_gpu_ads_new/1.0/generalml_gpu_ads_newv1_0\")\n",
    ")"
   ]
  },
  {
   "cell_type": "code",
   "execution_count": 5,
   "id": "a284b258",
   "metadata": {},
   "outputs": [],
   "source": [
    "# specify: log_group_ocid and log_ocid\n",
    "\n",
    "infrastructure = (\n",
    "    DataScienceJob()\n",
    "    .with_shape_name(\"VM.Standard2.2\")\n",
    "    .with_log_group_id(\"ocid1.loggroup.oc1.eu-frankfurt-1.amaaaaaangencdyazs4l4rzrzsarlej6mqlwlbz6bmnx4adwdlssveam2jaa\")\n",
    "    .with_log_id(\"ocid1.log.oc1.eu-frankfurt-1.amaaaaaangencdya47httqmxyiew5tkxa6l7gekev2ljpasixuhmp2fa3v5q\")\n",
    ")"
   ]
  },
  {
   "cell_type": "code",
   "execution_count": 6,
   "id": "2ad1d610",
   "metadata": {},
   "outputs": [],
   "source": [
    "job = (\n",
    "    Job(name=\"jobs3_01\")\n",
    "    .with_infrastructure(infrastructure)\n",
    "    .with_runtime(runtime)\n",
    ")"
   ]
  },
  {
   "cell_type": "code",
   "execution_count": 7,
   "id": "993f42e3",
   "metadata": {},
   "outputs": [
    {
     "data": {
      "text/plain": [
       "kind: job\n",
       "spec:\n",
       "  id: ocid1.datasciencejob.oc1.eu-frankfurt-1.amaaaaaangencdyalwmcu6vd2ism4vjtt7kpzz7c456p6tsd6zkgxdmbaqtq\n",
       "  infrastructure:\n",
       "    kind: infrastructure\n",
       "    spec:\n",
       "      blockStorageSize: 500\n",
       "      compartmentId: ocid1.compartment.oc1..aaaaaaaag2cpni5qj6li5ny6ehuahhepbpveopobooayqfeudqygdtfe6h3a\n",
       "      displayName: jobs3_01\n",
       "      jobInfrastructureType: STANDALONE\n",
       "      jobType: DEFAULT\n",
       "      logGroupId: ocid1.loggroup.oc1.eu-frankfurt-1.amaaaaaangencdyazs4l4rzrzsarlej6mqlwlbz6bmnx4adwdlssveam2jaa\n",
       "      logId: ocid1.log.oc1.eu-frankfurt-1.amaaaaaangencdya47httqmxyiew5tkxa6l7gekev2ljpasixuhmp2fa3v5q\n",
       "      projectId: ocid1.datascienceproject.oc1.eu-frankfurt-1.amaaaaaangencdya23mxim62zd4hasv5t44pjinkhpqj3ip6hti4ftrxja7a\n",
       "      shapeName: VM.Standard2.2\n",
       "      subnetId: ocid1.subnet.oc1.eu-frankfurt-1.aaaaaaaaijgqblnhpqle2zorl75qli23wre5eboqjtystagdgun4qwdxj4aq\n",
       "    type: dataScienceJob\n",
       "  name: jobs3_01\n",
       "  runtime:\n",
       "    kind: runtime\n",
       "    spec:\n",
       "      conda:\n",
       "        type: published\n",
       "        uri: oci://jobs_conda_envs@frqap2zhtzbe/conda_environments/gpu/generalml_gpu_ads_new/1.0/generalml_gpu_ads_newv1_0\n",
       "      scriptPathURI: oci://jobs_input@frqap2zhtzbe/jobs1.py\n",
       "    type: script"
      ]
     },
     "execution_count": 7,
     "metadata": {},
     "output_type": "execute_result"
    }
   ],
   "source": [
    "# Create a job\n",
    "job.create()"
   ]
  },
  {
   "cell_type": "code",
   "execution_count": 8,
   "id": "41eb81f1",
   "metadata": {},
   "outputs": [],
   "source": [
    "# Run a job, a job run will be created and started\n",
    "job_run = job.run(name=\"jobs3_01_run11\")"
   ]
  },
  {
   "cell_type": "code",
   "execution_count": null,
   "id": "9325502e",
   "metadata": {},
   "outputs": [
    {
     "name": "stdout",
     "output_type": "stream",
     "text": [
      "Job OCID: ocid1.datasciencejob.oc1.eu-frankfurt-1.amaaaaaangencdyalwmcu6vd2ism4vjtt7kpzz7c456p6tsd6zkgxdmbaqtq\n",
      "Job Run OCID: ocid1.datasciencejobrun.oc1.eu-frankfurt-1.amaaaaaangencdyaycdp2lx44rzm6vusjpk747v6kcn34lvpqchqpkmc43ea\n",
      "2022-06-05 08:35:46 - Job Run ACCEPTED\n",
      "2022-06-05 08:35:58 - Job Run ACCEPTED, Infrastructure provisioning.\n",
      "2022-06-05 08:36:55 - Job Run ACCEPTED, Infrastructure provisioned.\n",
      "2022-06-05 08:38:01 - Job Run ACCEPTED, Job run bootstrap starting.\n"
     ]
    }
   ],
   "source": [
    "# Stream the job run outputs\n",
    "job_run.watch()"
   ]
  },
  {
   "cell_type": "code",
   "execution_count": null,
   "id": "d916e47c",
   "metadata": {},
   "outputs": [],
   "source": []
  }
 ],
 "metadata": {
  "kernelspec": {
   "display_name": "Python [conda env:generalml_p37_cpu_v1_adsnewv1_0]",
   "language": "python",
   "name": "conda-env-generalml_p37_cpu_v1_adsnewv1_0-py"
  },
  "language_info": {
   "codemirror_mode": {
    "name": "ipython",
    "version": 3
   },
   "file_extension": ".py",
   "mimetype": "text/x-python",
   "name": "python",
   "nbconvert_exporter": "python",
   "pygments_lexer": "ipython3",
   "version": "3.7.12"
  }
 },
 "nbformat": 4,
 "nbformat_minor": 5
}
