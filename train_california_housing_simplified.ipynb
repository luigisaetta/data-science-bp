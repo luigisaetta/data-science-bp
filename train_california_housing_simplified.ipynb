{
 "cells": [
  {
   "cell_type": "markdown",
   "id": "86e7c10f",
   "metadata": {},
   "source": [
    "### Regression on California Housing Datase\n",
    "\n",
    "In this Notebook I walk through all the steps needed to develop a **regression model** and save it as JSON file.\n",
    "\n",
    "After the model have been saved, I will deploy the model as a **REST** service.\n",
    "\n",
    "The Notebook is based on the **California Housing Dataset**, downloaded from SKlearn.\n",
    "\n",
    "I have **split** the initial demo in two Notebooks:\n",
    "* this one, where I train the model (using XGBoost) and save the model in JSON format\n",
    "* a second NB where the trained model, serialized as JSON, is saved to the Model Catalog and then deployed as REST service"
   ]
  },
  {
   "cell_type": "code",
   "execution_count": 1,
   "id": "513a58f4",
   "metadata": {},
   "outputs": [],
   "source": [
    "import pandas as pd\n",
    "import numpy as np\n",
    "from pandas.api.types import is_numeric_dtype\n",
    "\n",
    "# the dataset used for the example\n",
    "from sklearn.datasets import fetch_california_housing\n",
    "\n",
    "from sklearn.model_selection import train_test_split\n",
    "\n",
    "# the GBM used\n",
    "import xgboost as xgb"
   ]
  },
  {
   "cell_type": "markdown",
   "id": "bb00940e",
   "metadata": {},
   "source": [
    "### some utility functions"
   ]
  },
  {
   "cell_type": "code",
   "execution_count": 2,
   "id": "0d4c4ada",
   "metadata": {},
   "outputs": [],
   "source": [
    "# functions\n",
    "def get_general_info(data_df):\n",
    "    print(f\"There are: {len(data_df.columns)} columns in the dataset\")\n",
    "    print()\n",
    "    print(\n",
    "        \"The list of column names, in alphabetical order:\",\n",
    "        sorted(list(data_df.columns)),\n",
    "    )\n",
    "    print()\n",
    "    print(f\"There are {data_df.shape[0]} records in the dataset\")\n",
    "    print()\n",
    "    \n",
    "    return\n",
    "\n",
    "# well you have to decide a threshold in term of a fraction\n",
    "# to decide if the col is categorical\n",
    "FRAC = 0.1\n",
    "\n",
    "def analyze_df(data_df):\n",
    "    # it is ok to use isna, isnull is an alias of isna\n",
    "    missing_val = data_df.isna().sum()\n",
    "\n",
    "    # cardinality\n",
    "\n",
    "    THR = data_df.shape[0] * FRAC\n",
    "\n",
    "    list_card = []\n",
    "    list_cat = []\n",
    "    list_dtypes = []\n",
    "    list_num_zeros = []\n",
    "\n",
    "    for col in data_df.columns:\n",
    "        # count the # of distinct values\n",
    "        n_distinct = data_df[col].nunique()\n",
    "        list_card.append(n_distinct)\n",
    "        \n",
    "        # is categorical is decide on this rule\n",
    "        if n_distinct < THR:\n",
    "            # categorical\n",
    "            list_cat.append(\"Yes\")\n",
    "        else:\n",
    "            list_cat.append(\"No\")\n",
    "\n",
    "        list_dtypes.append(data_df[col].dtype)\n",
    "\n",
    "    # build the results DF\n",
    "    result_df = pd.DataFrame(\n",
    "        {\n",
    "            \"col_name\": list(data_df.columns),\n",
    "            \"missing_vals\": missing_val,\n",
    "            \"cardinality\": list_card,\n",
    "            \"is_categorical\": list_cat,\n",
    "            \"data_type\": list_dtypes,\n",
    "        },\n",
    "        index=None,\n",
    "    )\n",
    "\n",
    "    # if you don't want cols as index\n",
    "    result_df.reset_index(drop=True, inplace=True)\n",
    "\n",
    "    return result_df"
   ]
  },
  {
   "cell_type": "markdown",
   "id": "aae39f6e",
   "metadata": {},
   "source": [
    "### Load the dataset"
   ]
  },
  {
   "cell_type": "code",
   "execution_count": 3,
   "id": "68ee740f",
   "metadata": {},
   "outputs": [],
   "source": [
    "# load the dataset\n",
    "housing = fetch_california_housing(as_frame=True)\n",
    "\n",
    "orig_df = housing.frame"
   ]
  },
  {
   "cell_type": "code",
   "execution_count": 4,
   "id": "88fb29ea",
   "metadata": {},
   "outputs": [
    {
     "data": {
      "text/html": [
       "<div>\n",
       "<style scoped>\n",
       "    .dataframe tbody tr th:only-of-type {\n",
       "        vertical-align: middle;\n",
       "    }\n",
       "\n",
       "    .dataframe tbody tr th {\n",
       "        vertical-align: top;\n",
       "    }\n",
       "\n",
       "    .dataframe thead th {\n",
       "        text-align: right;\n",
       "    }\n",
       "</style>\n",
       "<table border=\"1\" class=\"dataframe\">\n",
       "  <thead>\n",
       "    <tr style=\"text-align: right;\">\n",
       "      <th></th>\n",
       "      <th>MedInc</th>\n",
       "      <th>HouseAge</th>\n",
       "      <th>AveRooms</th>\n",
       "      <th>AveBedrms</th>\n",
       "      <th>Population</th>\n",
       "      <th>AveOccup</th>\n",
       "      <th>Latitude</th>\n",
       "      <th>Longitude</th>\n",
       "      <th>MedHouseVal</th>\n",
       "    </tr>\n",
       "  </thead>\n",
       "  <tbody>\n",
       "    <tr>\n",
       "      <th>0</th>\n",
       "      <td>8.3252</td>\n",
       "      <td>41.0</td>\n",
       "      <td>6.984127</td>\n",
       "      <td>1.023810</td>\n",
       "      <td>322.0</td>\n",
       "      <td>2.555556</td>\n",
       "      <td>37.88</td>\n",
       "      <td>-122.23</td>\n",
       "      <td>4.526</td>\n",
       "    </tr>\n",
       "    <tr>\n",
       "      <th>1</th>\n",
       "      <td>8.3014</td>\n",
       "      <td>21.0</td>\n",
       "      <td>6.238137</td>\n",
       "      <td>0.971880</td>\n",
       "      <td>2401.0</td>\n",
       "      <td>2.109842</td>\n",
       "      <td>37.86</td>\n",
       "      <td>-122.22</td>\n",
       "      <td>3.585</td>\n",
       "    </tr>\n",
       "    <tr>\n",
       "      <th>2</th>\n",
       "      <td>7.2574</td>\n",
       "      <td>52.0</td>\n",
       "      <td>8.288136</td>\n",
       "      <td>1.073446</td>\n",
       "      <td>496.0</td>\n",
       "      <td>2.802260</td>\n",
       "      <td>37.85</td>\n",
       "      <td>-122.24</td>\n",
       "      <td>3.521</td>\n",
       "    </tr>\n",
       "    <tr>\n",
       "      <th>3</th>\n",
       "      <td>5.6431</td>\n",
       "      <td>52.0</td>\n",
       "      <td>5.817352</td>\n",
       "      <td>1.073059</td>\n",
       "      <td>558.0</td>\n",
       "      <td>2.547945</td>\n",
       "      <td>37.85</td>\n",
       "      <td>-122.25</td>\n",
       "      <td>3.413</td>\n",
       "    </tr>\n",
       "    <tr>\n",
       "      <th>4</th>\n",
       "      <td>3.8462</td>\n",
       "      <td>52.0</td>\n",
       "      <td>6.281853</td>\n",
       "      <td>1.081081</td>\n",
       "      <td>565.0</td>\n",
       "      <td>2.181467</td>\n",
       "      <td>37.85</td>\n",
       "      <td>-122.25</td>\n",
       "      <td>3.422</td>\n",
       "    </tr>\n",
       "  </tbody>\n",
       "</table>\n",
       "</div>"
      ],
      "text/plain": [
       "   MedInc  HouseAge  AveRooms  AveBedrms  Population  AveOccup  Latitude  \\\n",
       "0  8.3252      41.0  6.984127   1.023810       322.0  2.555556     37.88   \n",
       "1  8.3014      21.0  6.238137   0.971880      2401.0  2.109842     37.86   \n",
       "2  7.2574      52.0  8.288136   1.073446       496.0  2.802260     37.85   \n",
       "3  5.6431      52.0  5.817352   1.073059       558.0  2.547945     37.85   \n",
       "4  3.8462      52.0  6.281853   1.081081       565.0  2.181467     37.85   \n",
       "\n",
       "   Longitude  MedHouseVal  \n",
       "0    -122.23        4.526  \n",
       "1    -122.22        3.585  \n",
       "2    -122.24        3.521  \n",
       "3    -122.25        3.413  \n",
       "4    -122.25        3.422  "
      ]
     },
     "execution_count": 4,
     "metadata": {},
     "output_type": "execute_result"
    }
   ],
   "source": [
    "orig_df.head()"
   ]
  },
  {
   "cell_type": "markdown",
   "id": "8d8c5fd8",
   "metadata": {},
   "source": [
    "### some EDA"
   ]
  },
  {
   "cell_type": "code",
   "execution_count": 5,
   "id": "bbeb2916",
   "metadata": {},
   "outputs": [
    {
     "name": "stdout",
     "output_type": "stream",
     "text": [
      "There are: 9 columns in the dataset\n",
      "\n",
      "The list of column names, in alphabetical order: ['AveBedrms', 'AveOccup', 'AveRooms', 'HouseAge', 'Latitude', 'Longitude', 'MedHouseVal', 'MedInc', 'Population']\n",
      "\n",
      "There are 20640 records in the dataset\n",
      "\n"
     ]
    },
    {
     "data": {
      "text/html": [
       "<div>\n",
       "<style scoped>\n",
       "    .dataframe tbody tr th:only-of-type {\n",
       "        vertical-align: middle;\n",
       "    }\n",
       "\n",
       "    .dataframe tbody tr th {\n",
       "        vertical-align: top;\n",
       "    }\n",
       "\n",
       "    .dataframe thead th {\n",
       "        text-align: right;\n",
       "    }\n",
       "</style>\n",
       "<table border=\"1\" class=\"dataframe\">\n",
       "  <thead>\n",
       "    <tr style=\"text-align: right;\">\n",
       "      <th></th>\n",
       "      <th>col_name</th>\n",
       "      <th>missing_vals</th>\n",
       "      <th>cardinality</th>\n",
       "      <th>is_categorical</th>\n",
       "      <th>data_type</th>\n",
       "    </tr>\n",
       "  </thead>\n",
       "  <tbody>\n",
       "    <tr>\n",
       "      <th>0</th>\n",
       "      <td>MedInc</td>\n",
       "      <td>0</td>\n",
       "      <td>12928</td>\n",
       "      <td>No</td>\n",
       "      <td>float64</td>\n",
       "    </tr>\n",
       "    <tr>\n",
       "      <th>1</th>\n",
       "      <td>HouseAge</td>\n",
       "      <td>0</td>\n",
       "      <td>52</td>\n",
       "      <td>Yes</td>\n",
       "      <td>float64</td>\n",
       "    </tr>\n",
       "    <tr>\n",
       "      <th>2</th>\n",
       "      <td>AveRooms</td>\n",
       "      <td>0</td>\n",
       "      <td>19392</td>\n",
       "      <td>No</td>\n",
       "      <td>float64</td>\n",
       "    </tr>\n",
       "    <tr>\n",
       "      <th>3</th>\n",
       "      <td>AveBedrms</td>\n",
       "      <td>0</td>\n",
       "      <td>14233</td>\n",
       "      <td>No</td>\n",
       "      <td>float64</td>\n",
       "    </tr>\n",
       "    <tr>\n",
       "      <th>4</th>\n",
       "      <td>Population</td>\n",
       "      <td>0</td>\n",
       "      <td>3888</td>\n",
       "      <td>No</td>\n",
       "      <td>float64</td>\n",
       "    </tr>\n",
       "    <tr>\n",
       "      <th>5</th>\n",
       "      <td>AveOccup</td>\n",
       "      <td>0</td>\n",
       "      <td>18841</td>\n",
       "      <td>No</td>\n",
       "      <td>float64</td>\n",
       "    </tr>\n",
       "    <tr>\n",
       "      <th>6</th>\n",
       "      <td>Latitude</td>\n",
       "      <td>0</td>\n",
       "      <td>862</td>\n",
       "      <td>Yes</td>\n",
       "      <td>float64</td>\n",
       "    </tr>\n",
       "    <tr>\n",
       "      <th>7</th>\n",
       "      <td>Longitude</td>\n",
       "      <td>0</td>\n",
       "      <td>844</td>\n",
       "      <td>Yes</td>\n",
       "      <td>float64</td>\n",
       "    </tr>\n",
       "    <tr>\n",
       "      <th>8</th>\n",
       "      <td>MedHouseVal</td>\n",
       "      <td>0</td>\n",
       "      <td>3842</td>\n",
       "      <td>No</td>\n",
       "      <td>float64</td>\n",
       "    </tr>\n",
       "  </tbody>\n",
       "</table>\n",
       "</div>"
      ],
      "text/plain": [
       "      col_name  missing_vals  cardinality is_categorical data_type\n",
       "0       MedInc             0        12928             No   float64\n",
       "1     HouseAge             0           52            Yes   float64\n",
       "2     AveRooms             0        19392             No   float64\n",
       "3    AveBedrms             0        14233             No   float64\n",
       "4   Population             0         3888             No   float64\n",
       "5     AveOccup             0        18841             No   float64\n",
       "6     Latitude             0          862            Yes   float64\n",
       "7    Longitude             0          844            Yes   float64\n",
       "8  MedHouseVal             0         3842             No   float64"
      ]
     },
     "execution_count": 5,
     "metadata": {},
     "output_type": "execute_result"
    }
   ],
   "source": [
    "get_general_info(orig_df)\n",
    "\n",
    "analyze_df(orig_df)"
   ]
  },
  {
   "cell_type": "code",
   "execution_count": 6,
   "id": "cc8450af",
   "metadata": {},
   "outputs": [
    {
     "data": {
      "text/plain": [
       "['AveBedrms', 'AveOccup', 'AveRooms', 'HouseAge', 'MedInc', 'Population']"
      ]
     },
     "execution_count": 6,
     "metadata": {},
     "output_type": "execute_result"
    }
   ],
   "source": [
    "# In this example I'll use all the columns (ex MedHouseVal) as features, except Lat, Long, to simplify\n",
    "\n",
    "TARGET = \"MedHouseVal\"\n",
    "all_cols = list(orig_df.columns)\n",
    "cols_to_drop = ['Latitude', 'Longitude']\n",
    "\n",
    "cat_cols = ['HouseAge']\n",
    "\n",
    "# take care, I have sorted\n",
    "FEATURES = sorted(list(set(all_cols) - set([TARGET])- set(cols_to_drop)))\n",
    "\n",
    "# for LightGBM\n",
    "cat_columns_idxs = [i for i, col in enumerate(FEATURES) if col in cat_cols]\n",
    "\n",
    "FEATURES"
   ]
  },
  {
   "cell_type": "code",
   "execution_count": 7,
   "id": "272f85f1",
   "metadata": {},
   "outputs": [],
   "source": [
    "# the only important thing is that we have 1 categorical column: HouseAge\n",
    "\n",
    "# we will code categorical as integer starting from zero\n",
    "# in this case it is easy, since the minimum is 1... so we need only to subtract 1"
   ]
  },
  {
   "cell_type": "code",
   "execution_count": 8,
   "id": "d0fd686f",
   "metadata": {},
   "outputs": [],
   "source": [
    "# make a copy before any changes\n",
    "used_df = orig_df.copy()\n",
    "\n",
    "used_df['HouseAge'] = used_df['HouseAge'] - 1.\n",
    "\n",
    "used_df['HouseAge'] = used_df['HouseAge'].astype(int)\n",
    "used_df['HouseAge'] = used_df['HouseAge'].astype(\"category\")"
   ]
  },
  {
   "cell_type": "code",
   "execution_count": 9,
   "id": "bf40e976",
   "metadata": {},
   "outputs": [],
   "source": [
    "# let's make a simple train/test split\n",
    "X = used_df[FEATURES].values\n",
    "y = used_df[TARGET].values\n",
    "\n",
    "TEST_SIZE = 0.2\n",
    "\n",
    "X_train, X_test, y_train, y_test = train_test_split(X, y, test_size=TEST_SIZE, random_state=1)"
   ]
  },
  {
   "cell_type": "markdown",
   "id": "6b8f408a",
   "metadata": {},
   "source": [
    "### Train with best params"
   ]
  },
  {
   "cell_type": "code",
   "execution_count": 10,
   "id": "a1fc5e1f",
   "metadata": {},
   "outputs": [
    {
     "name": "stdout",
     "output_type": "stream",
     "text": [
      "[0]\tvalidation_0-rmse:1.90045\n",
      "[100]\tvalidation_0-rmse:1.03403\n",
      "[200]\tvalidation_0-rmse:0.73735\n",
      "[300]\tvalidation_0-rmse:0.65741\n",
      "[400]\tvalidation_0-rmse:0.63848\n",
      "[500]\tvalidation_0-rmse:0.63392\n",
      "[599]\tvalidation_0-rmse:0.63315\n",
      "CPU times: user 1h 25min 27s, sys: 12.5 s, total: 1h 25min 39s\n",
      "Wall time: 3min 1s\n"
     ]
    },
    {
     "data": {
      "text/plain": [
       "XGBRegressor(base_score=0.5, booster='gbtree', colsample_bylevel=1,\n",
       "             colsample_bynode=1, colsample_bytree=1, enable_categorical=False,\n",
       "             gamma=0, gpu_id=-1, importance_type=None,\n",
       "             interaction_constraints='', learning_rate=0.008, max_delta_step=0,\n",
       "             max_depth=7, min_child_weight=1, missing=nan,\n",
       "             monotone_constraints='()', n_estimators=600, n_jobs=32,\n",
       "             num_parallel_tree=1, predictor='auto', random_state=0, reg_alpha=0,\n",
       "             reg_lambda=1, scale_pos_weight=1, subsample=1, tree_method='exact',\n",
       "             validate_parameters=1, verbosity=None)"
      ]
     },
     "execution_count": 10,
     "metadata": {},
     "output_type": "execute_result"
    }
   ],
   "source": [
    "%%time\n",
    "### train with best params\n",
    "\n",
    "params = {\n",
    "    \"n_estimators\": 600,\n",
    "    \"learning_rate\": 0.008,\n",
    "    \"max_depth\": 7\n",
    "}\n",
    "\n",
    "model = xgb.XGBRegressor(**params)\n",
    "\n",
    "model.fit(X_train, y_train, eval_set=[(X_test, y_test)], verbose=100)"
   ]
  },
  {
   "cell_type": "markdown",
   "id": "324724bf",
   "metadata": {},
   "source": [
    "### Save the model in JSON format"
   ]
  },
  {
   "cell_type": "code",
   "execution_count": 11,
   "id": "9fb9096a",
   "metadata": {},
   "outputs": [],
   "source": [
    "MODEL_FILE_NAME = 'housing.json'\n",
    "\n",
    "model.save_model(MODEL_FILE_NAME)"
   ]
  },
  {
   "cell_type": "markdown",
   "id": "e4b4042b",
   "metadata": {},
   "source": [
    "### Test reloading it"
   ]
  },
  {
   "cell_type": "code",
   "execution_count": 13,
   "id": "3ba6acfb",
   "metadata": {},
   "outputs": [],
   "source": [
    "model_loaded = xgb.Booster()\n",
    "\n",
    "model_loaded.load_model(MODEL_FILE_NAME)"
   ]
  },
  {
   "cell_type": "code",
   "execution_count": 20,
   "id": "3e3e9ea1",
   "metadata": {},
   "outputs": [
    {
     "data": {
      "text/plain": [
       "{'best_iteration': '599',\n",
       " 'best_ntree_limit': '600',\n",
       " 'scikit_learn': '{\"n_estimators\": 600, \"objective\": \"reg:squarederror\", \"max_depth\": 7, \"learning_rate\": 0.008, \"verbosity\": null, \"booster\": null, \"tree_method\": null, \"gamma\": null, \"min_child_weight\": null, \"max_delta_step\": null, \"subsample\": null, \"colsample_bytree\": null, \"colsample_bylevel\": null, \"colsample_bynode\": null, \"reg_alpha\": null, \"reg_lambda\": null, \"scale_pos_weight\": null, \"base_score\": null, \"missing\": NaN, \"num_parallel_tree\": null, \"random_state\": null, \"n_jobs\": null, \"monotone_constraints\": null, \"interaction_constraints\": null, \"importance_type\": null, \"gpu_id\": null, \"validate_parameters\": null, \"predictor\": null, \"enable_categorical\": false, \"evals_result_\": {\"validation_0\": {\"rmse\": [1.900449, 1.887128, 1.873942, 1.860858, 1.84788, 1.835065, 1.822358, 1.809725, 1.797241, 1.78485, 1.772612, 1.760471, 1.748413, 1.73648, 1.724705, 1.713, 1.701428, 1.689916, 1.678595, 1.667275, 1.656116, 1.645022, 1.63406, 1.623124, 1.612333, 1.601626, 1.591022, 1.580554, 1.570152, 1.559831, 1.549623, 1.539504, 1.529532, 1.519609, 1.509761, 1.500012, 1.490328, 1.480808, 1.471331, 1.461984, 1.452673, 1.443485, 1.434348, 1.425296, 1.41633, 1.407446, 1.398668, 1.389979, 1.38137, 1.372839, 1.364431, 1.356054, 1.347726, 1.33952, 1.331379, 1.323353, 1.315362, 1.307469, 1.299662, 1.291953, 1.284333, 1.276722, 1.269238, 1.261769, 1.254463, 1.24714, 1.239926, 1.232807, 1.225768, 1.218727, 1.211819, 1.204967, 1.198206, 1.191457, 1.184825, 1.178172, 1.17165, 1.165234, 1.158828, 1.152497, 1.146233, 1.140038, 1.13391, 1.127849, 1.121872, 1.11589, 1.110034, 1.104241, 1.098511, 1.092803, 1.087156, 1.081572, 1.076061, 1.070569, 1.065163, 1.05986, 1.05459, 1.049394, 1.044235, 1.039115, 1.034028, 1.029053, 1.024067, 1.019196, 1.014313, 1.009544, 1.00475, 1.000066, 0.995413, 0.990851, 0.986362, 0.981895, 0.977484, 0.973053, 0.968713, 0.964423, 0.960181, 0.956011, 0.951826, 0.947723, 0.943707, 0.939736, 0.935827, 0.931911, 0.928058, 0.924217, 0.920445, 0.916767, 0.913061, 0.909421, 0.905791, 0.902242, 0.898731, 0.895235, 0.891775, 0.888378, 0.885065, 0.881784, 0.878496, 0.875253, 0.871989, 0.868829, 0.865694, 0.862559, 0.859538, 0.856543, 0.853561, 0.850608, 0.847704, 0.844816, 0.841977, 0.839181, 0.836378, 0.833632, 0.830927, 0.828218, 0.825572, 0.822967, 0.82035, 0.817785, 0.815265, 0.812803, 0.810352, 0.807945, 0.80554, 0.803151, 0.800826, 0.798527, 0.796263, 0.794025, 0.791807, 0.789617, 0.787404, 0.785293, 0.783233, 0.781154, 0.779095, 0.777107, 0.775114, 0.773141, 0.771158, 0.769277, 0.767421, 0.765547, 0.763681, 0.761865, 0.760112, 0.758369, 0.756619, 0.754919, 0.753192, 0.751533, 0.749851, 0.748219, 0.746623, 0.745034, 0.743428, 0.741844, 0.740336, 0.738813, 0.737351, 0.73584, 0.734378, 0.732946, 0.731554, 0.730102, 0.728747, 0.727383, 0.726042, 0.724738, 0.723474, 0.722188, 0.720911, 0.719601, 0.718385, 0.717176, 0.715994, 0.714808, 0.713621, 0.712468, 0.711298, 0.71018, 0.709083, 0.707975, 0.706868, 0.705828, 0.704774, 0.703751, 0.70274, 0.701718, 0.700766, 0.699781, 0.698796, 0.697871, 0.696961, 0.696034, 0.695105, 0.694211, 0.693332, 0.692521, 0.691679, 0.690833, 0.69, 0.689188, 0.688359, 0.687548, 0.686766, 0.685994, 0.685239, 0.684477, 0.683722, 0.682985, 0.68227, 0.681566, 0.680891, 0.680214, 0.679532, 0.678838, 0.678197, 0.67754, 0.676924, 0.676269, 0.675658, 0.67502, 0.674382, 0.673793, 0.673215, 0.672635, 0.672055, 0.671496, 0.670894, 0.670366, 0.669829, 0.669308, 0.668741, 0.668229, 0.667724, 0.667219, 0.666752, 0.666272, 0.665806, 0.665304, 0.664809, 0.664364, 0.663924, 0.663481, 0.663028, 0.662604, 0.662152, 0.661691, 0.661287, 0.660876, 0.660445, 0.660043, 0.659675, 0.65928, 0.658862, 0.658499, 0.658133, 0.657785, 0.657407, 0.657036, 0.656674, 0.656289, 0.655948, 0.655618, 0.655271, 0.654926, 0.654591, 0.654284, 0.653988, 0.653664, 0.653359, 0.653054, 0.652742, 0.652453, 0.65216, 0.651862, 0.651567, 0.651293, 0.651018, 0.650779, 0.650479, 0.650214, 0.649931, 0.649667, 0.64942, 0.649183, 0.648932, 0.648695, 0.648475, 0.648253, 0.648056, 0.64783, 0.647609, 0.647399, 0.647208, 0.646973, 0.646762, 0.646547, 0.646357, 0.646167, 0.645968, 0.645759, 0.645587, 0.645409, 0.645202, 0.645059, 0.644889, 0.644717, 0.644542, 0.644397, 0.644257, 0.644107, 0.643945, 0.643774, 0.643631, 0.643491, 0.643337, 0.643177, 0.643033, 0.642884, 0.642743, 0.642593, 0.642461, 0.642329, 0.642207, 0.64208, 0.641948, 0.641803, 0.641677, 0.641536, 0.64141, 0.641296, 0.641175, 0.641059, 0.640928, 0.640789, 0.640659, 0.640546, 0.640434, 0.640323, 0.640247, 0.640147, 0.640016, 0.639926, 0.639825, 0.639746, 0.63964, 0.639529, 0.639427, 0.639356, 0.639241, 0.639114, 0.639026, 0.638924, 0.638857, 0.638742, 0.638644, 0.638599, 0.638483, 0.638396, 0.638343, 0.638261, 0.638171, 0.638097, 0.638006, 0.637925, 0.637833, 0.637751, 0.637697, 0.637632, 0.637561, 0.637503, 0.637417, 0.637338, 0.637295, 0.637223, 0.637179, 0.637109, 0.637019, 0.636949, 0.636911, 0.636831, 0.63678, 0.63669, 0.636646, 0.636597, 0.636549, 0.636505, 0.636448, 0.636378, 0.636333, 0.636278, 0.636225, 0.636174, 0.636129, 0.636082, 0.636032, 0.635992, 0.635932, 0.635899, 0.635854, 0.635812, 0.635749, 0.635708, 0.635678, 0.635639, 0.635592, 0.63554, 0.63548, 0.635437, 0.635384, 0.635341, 0.635295, 0.635261, 0.635205, 0.635183, 0.635152, 0.635104, 0.63507, 0.635038, 0.635018, 0.634982, 0.63495, 0.63492, 0.634882, 0.63483, 0.634802, 0.634752, 0.634731, 0.63469, 0.634658, 0.63464, 0.634605, 0.634549, 0.634514, 0.63447, 0.634434, 0.634426, 0.634421, 0.634388, 0.634362, 0.634349, 0.634321, 0.63428, 0.634263, 0.634223, 0.634204, 0.634197, 0.634173, 0.634136, 0.634135, 0.634108, 0.634079, 0.634054, 0.634013, 0.633987, 0.633968, 0.633954, 0.633916, 0.633911, 0.633878, 0.633868, 0.633843, 0.633833, 0.633817, 0.633782, 0.633796, 0.633776, 0.633763, 0.633713, 0.633721, 0.633696, 0.633678, 0.633669, 0.633667, 0.633655, 0.633639, 0.633649, 0.633632, 0.633583, 0.633585, 0.63358, 0.633568, 0.633568, 0.633522, 0.633509, 0.633518, 0.633524, 0.633497, 0.633475, 0.633456, 0.633423, 0.633399, 0.633399, 0.633383, 0.633368, 0.633356, 0.633349, 0.633353, 0.633335, 0.633292, 0.633272, 0.633257, 0.63324, 0.633213, 0.633201, 0.633187, 0.633174, 0.63316, 0.633126, 0.633131, 0.633111, 0.633119, 0.63311, 0.633111, 0.633126, 0.633128, 0.63314, 0.633141, 0.633154, 0.633169, 0.633166, 0.633178, 0.633162, 0.633183, 0.633158, 0.633165, 0.633136, 0.633154, 0.63315, 0.633126, 0.633135, 0.633122, 0.633133, 0.633115, 0.633124, 0.633124, 0.633144, 0.633123, 0.633121, 0.63314, 0.633134, 0.633152, 0.633171, 0.633166, 0.633151, 0.633159, 0.633122, 0.633109, 0.633124, 0.633119, 0.633115, 0.633122, 0.633144, 0.633128, 0.633138, 0.633143, 0.633152]}}, \"_estimator_type\": \"regressor\"}'}"
      ]
     },
     "execution_count": 20,
     "metadata": {},
     "output_type": "execute_result"
    }
   ],
   "source": [
    "model_loaded.attributes()"
   ]
  },
  {
   "cell_type": "code",
   "execution_count": null,
   "id": "d6ddc76a",
   "metadata": {},
   "outputs": [],
   "source": []
  }
 ],
 "metadata": {
  "kernelspec": {
   "display_name": "Python [conda env:generalml_p37_cpu_v1]",
   "language": "python",
   "name": "conda-env-generalml_p37_cpu_v1-py"
  },
  "language_info": {
   "codemirror_mode": {
    "name": "ipython",
    "version": 3
   },
   "file_extension": ".py",
   "mimetype": "text/x-python",
   "name": "python",
   "nbconvert_exporter": "python",
   "pygments_lexer": "ipython3",
   "version": "3.7.12"
  }
 },
 "nbformat": 4,
 "nbformat_minor": 5
}
