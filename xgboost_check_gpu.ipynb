{
 "cells": [
  {
   "cell_type": "markdown",
   "id": "275bc1c7",
   "metadata": {},
   "source": [
    "### Check if XGBoost can use GPU\n",
    "\n",
    "* see also: https://xgboost.readthedocs.io/en/stable/gpu/index.html"
   ]
  },
  {
   "cell_type": "code",
   "execution_count": 7,
   "id": "9a787274",
   "metadata": {},
   "outputs": [],
   "source": [
    "import xgboost as xgb"
   ]
  },
  {
   "cell_type": "code",
   "execution_count": 8,
   "id": "810d3c0a",
   "metadata": {},
   "outputs": [],
   "source": [
    "param = {}\n",
    "param[\"tree_method\"] = \"gpu_hist\"\n",
    "\n",
    "xgb_reg = xgb.XGBRegressor(tree_method=\"gpu_hist\")"
   ]
  },
  {
   "cell_type": "code",
   "execution_count": null,
   "id": "c203ebbb",
   "metadata": {},
   "outputs": [],
   "source": []
  }
 ],
 "metadata": {
  "kernelspec": {
   "display_name": "Python [conda env:generalml_p37_gpu_v1]",
   "language": "python",
   "name": "conda-env-generalml_p37_gpu_v1-py"
  },
  "language_info": {
   "codemirror_mode": {
    "name": "ipython",
    "version": 3
   },
   "file_extension": ".py",
   "mimetype": "text/x-python",
   "name": "python",
   "nbconvert_exporter": "python",
   "pygments_lexer": "ipython3",
   "version": "3.7.12"
  }
 },
 "nbformat": 4,
 "nbformat_minor": 5
}
