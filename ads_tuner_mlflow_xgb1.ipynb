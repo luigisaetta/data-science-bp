{
 "cells": [
  {
   "cell_type": "markdown",
   "id": "9011915e",
   "metadata": {},
   "source": [
    "### ADS Tuner for HPO\n",
    "\n",
    "A first example, using Breast Cancer Dataset, and:\n",
    "* ADSTuner for HPO optimization\n",
    "* MLFlow to track experiments\n",
    "* XGB"
   ]
  },
  {
   "cell_type": "code",
   "execution_count": 1,
   "id": "db3c29c5",
   "metadata": {},
   "outputs": [],
   "source": [
    "import pandas as pd\n",
    "import numpy as np\n",
    "\n",
    "from xgboost import XGBClassifier\n",
    "from sklearn.model_selection import train_test_split\n",
    "from sklearn.datasets import load_breast_cancer\n",
    "\n",
    "from ads.hpo.search_cv import ADSTuner\n",
    "from ads.hpo.stopping_criterion import *\n",
    "from ads.hpo.distributions import *\n",
    "\n",
    "import mlflow"
   ]
  },
  {
   "cell_type": "code",
   "execution_count": 3,
   "id": "4c4bc8aa",
   "metadata": {},
   "outputs": [],
   "source": [
    "# load the dataset\n",
    "\n",
    "cancer = load_breast_cancer()\n",
    "\n",
    "# load in Pandas DataFrame\n",
    "df = pd.DataFrame(\n",
    "    np.c_[cancer[\"data\"], cancer[\"target\"]],\n",
    "    columns=np.append(cancer[\"feature_names\"], [\"target\"]),\n",
    ")"
   ]
  },
  {
   "cell_type": "code",
   "execution_count": 4,
   "id": "5d21b1c2",
   "metadata": {},
   "outputs": [
    {
     "data": {
      "text/plain": [
       "Index(['mean radius', 'mean texture', 'mean perimeter', 'mean area',\n",
       "       'mean smoothness', 'mean compactness', 'mean concavity',\n",
       "       'mean concave points', 'mean symmetry', 'mean fractal dimension',\n",
       "       'radius error', 'texture error', 'perimeter error', 'area error',\n",
       "       'smoothness error', 'compactness error', 'concavity error',\n",
       "       'concave points error', 'symmetry error', 'fractal dimension error',\n",
       "       'worst radius', 'worst texture', 'worst perimeter', 'worst area',\n",
       "       'worst smoothness', 'worst compactness', 'worst concavity',\n",
       "       'worst concave points', 'worst symmetry', 'worst fractal dimension',\n",
       "       'target'],\n",
       "      dtype='object')"
      ]
     },
     "execution_count": 4,
     "metadata": {},
     "output_type": "execute_result"
    }
   ],
   "source": [
    "df.columns"
   ]
  },
  {
   "cell_type": "code",
   "execution_count": 5,
   "id": "51289bb5",
   "metadata": {},
   "outputs": [],
   "source": [
    "TARGET = \"target\"\n",
    "\n",
    "# let's choose some of the column\n",
    "FEATURES = [\"mean radius\", \"mean concavity\", \"mean symmetry\", \"mean fractal dimension\"]\n",
    "\n",
    "X = df[FEATURES].values\n",
    "y = df[TARGET].values"
   ]
  },
  {
   "cell_type": "code",
   "execution_count": 6,
   "id": "c7ca035f",
   "metadata": {},
   "outputs": [],
   "source": [
    "# train, test split\n",
    "# we will be using CV\n",
    "X_train, X_test, y_train, y_test = train_test_split(X, y, test_size=0.2, random_state=1)"
   ]
  },
  {
   "cell_type": "code",
   "execution_count": 7,
   "id": "22f387b6",
   "metadata": {},
   "outputs": [
    {
     "name": "stdout",
     "output_type": "stream",
     "text": [
      "# of samples in train set 455\n",
      "# of samples in test set 114\n"
     ]
    }
   ],
   "source": [
    "print(\"# of samples in train set\", X_train.shape[0])\n",
    "print(\"# of samples in test set\", X_test.shape[0])"
   ]
  },
  {
   "cell_type": "markdown",
   "id": "93a68242",
   "metadata": {},
   "source": [
    "### Using Random Forest we're developing a classifier to predict target\n",
    "we will be using ADSTuner to get the best value for max_depth"
   ]
  },
  {
   "cell_type": "code",
   "execution_count": 34,
   "id": "9a34a2bc",
   "metadata": {},
   "outputs": [
    {
     "name": "stdout",
     "output_type": "stream",
     "text": [
      "[15:42:05] WARNING: ../src/learner.cc:1115: Starting in XGBoost 1.3.0, the default evaluation metric used with the objective 'binary:logistic' was changed from 'error' to 'logloss'. Explicitly set eval_metric if you'd like to restore the old behavior.\n",
      "[15:42:09] WARNING: ../src/learner.cc:1115: Starting in XGBoost 1.3.0, the default evaluation metric used with the objective 'binary:logistic' was changed from 'error' to 'logloss'. Explicitly set eval_metric if you'd like to restore the old behavior.\n",
      "[15:42:13] WARNING: ../src/learner.cc:1115: Starting in XGBoost 1.3.0, the default evaluation metric used with the objective 'binary:logistic' was changed from 'error' to 'logloss'. Explicitly set eval_metric if you'd like to restore the old behavior.\n",
      "[15:42:18] WARNING: ../src/learner.cc:1115: Starting in XGBoost 1.3.0, the default evaluation metric used with the objective 'binary:logistic' was changed from 'error' to 'logloss'. Explicitly set eval_metric if you'd like to restore the old behavior.\n",
      "[15:42:22] WARNING: ../src/learner.cc:1115: Starting in XGBoost 1.3.0, the default evaluation metric used with the objective 'binary:logistic' was changed from 'error' to 'logloss'. Explicitly set eval_metric if you'd like to restore the old behavior.\n",
      "[15:42:26] WARNING: ../src/learner.cc:1115: Starting in XGBoost 1.3.0, the default evaluation metric used with the objective 'binary:logistic' was changed from 'error' to 'logloss'. Explicitly set eval_metric if you'd like to restore the old behavior.\n",
      "[15:42:28] WARNING: ../src/learner.cc:1115: Starting in XGBoost 1.3.0, the default evaluation metric used with the objective 'binary:logistic' was changed from 'error' to 'logloss'. Explicitly set eval_metric if you'd like to restore the old behavior.\n",
      "[15:42:30] WARNING: ../src/learner.cc:1115: Starting in XGBoost 1.3.0, the default evaluation metric used with the objective 'binary:logistic' was changed from 'error' to 'logloss'. Explicitly set eval_metric if you'd like to restore the old behavior.\n",
      "[15:42:32] WARNING: ../src/learner.cc:1115: Starting in XGBoost 1.3.0, the default evaluation metric used with the objective 'binary:logistic' was changed from 'error' to 'logloss'. Explicitly set eval_metric if you'd like to restore the old behavior.\n",
      "[15:42:34] WARNING: ../src/learner.cc:1115: Starting in XGBoost 1.3.0, the default evaluation metric used with the objective 'binary:logistic' was changed from 'error' to 'logloss'. Explicitly set eval_metric if you'd like to restore the old behavior.\n",
      "[15:42:36] WARNING: ../src/learner.cc:1115: Starting in XGBoost 1.3.0, the default evaluation metric used with the objective 'binary:logistic' was changed from 'error' to 'logloss'. Explicitly set eval_metric if you'd like to restore the old behavior.\n",
      "[15:42:46] WARNING: ../src/learner.cc:1115: Starting in XGBoost 1.3.0, the default evaluation metric used with the objective 'binary:logistic' was changed from 'error' to 'logloss'. Explicitly set eval_metric if you'd like to restore the old behavior.\n",
      "[15:42:55] WARNING: ../src/learner.cc:1115: Starting in XGBoost 1.3.0, the default evaluation metric used with the objective 'binary:logistic' was changed from 'error' to 'logloss'. Explicitly set eval_metric if you'd like to restore the old behavior.\n",
      "[15:43:04] WARNING: ../src/learner.cc:1115: Starting in XGBoost 1.3.0, the default evaluation metric used with the objective 'binary:logistic' was changed from 'error' to 'logloss'. Explicitly set eval_metric if you'd like to restore the old behavior.\n",
      "[15:43:13] WARNING: ../src/learner.cc:1115: Starting in XGBoost 1.3.0, the default evaluation metric used with the objective 'binary:logistic' was changed from 'error' to 'logloss'. Explicitly set eval_metric if you'd like to restore the old behavior.\n",
      "[15:43:23] WARNING: ../src/learner.cc:1115: Starting in XGBoost 1.3.0, the default evaluation metric used with the objective 'binary:logistic' was changed from 'error' to 'logloss'. Explicitly set eval_metric if you'd like to restore the old behavior.\n",
      "[15:43:30] WARNING: ../src/learner.cc:1115: Starting in XGBoost 1.3.0, the default evaluation metric used with the objective 'binary:logistic' was changed from 'error' to 'logloss'. Explicitly set eval_metric if you'd like to restore the old behavior.\n",
      "[15:43:37] WARNING: ../src/learner.cc:1115: Starting in XGBoost 1.3.0, the default evaluation metric used with the objective 'binary:logistic' was changed from 'error' to 'logloss'. Explicitly set eval_metric if you'd like to restore the old behavior.\n"
     ]
    },
    {
     "name": "stderr",
     "output_type": "stream",
     "text": [
      "Process Process-2:\n",
      "Traceback (most recent call last):\n",
      "  File \"/home/datascience/conda/generalml_p37_gpu_v1/lib/python3.7/multiprocessing/process.py\", line 297, in _bootstrap\n",
      "    self.run()\n",
      "  File \"/home/datascience/conda/generalml_p37_gpu_v1/lib/python3.7/multiprocessing/process.py\", line 99, in run\n",
      "    self._target(*self._args, **self._kwargs)\n",
      "  File \"/home/datascience/conda/generalml_p37_gpu_v1/lib/python3.7/site-packages/ads/hpo/search_cv.py\", line 1262, in optimizer\n",
      "    study.optimize(objective_func, **kwargs)\n",
      "  File \"/home/datascience/conda/generalml_p37_gpu_v1/lib/python3.7/site-packages/optuna/study/study.py\", line 409, in optimize\n",
      "    show_progress_bar=show_progress_bar,\n",
      "  File \"/home/datascience/conda/generalml_p37_gpu_v1/lib/python3.7/site-packages/optuna/study/_optimize.py\", line 76, in _optimize\n",
      "    progress_bar=progress_bar,\n",
      "  File \"/home/datascience/conda/generalml_p37_gpu_v1/lib/python3.7/site-packages/optuna/study/_optimize.py\", line 163, in _optimize_sequential\n",
      "    trial = _run_trial(study, func, catch)\n",
      "  File \"/home/datascience/conda/generalml_p37_gpu_v1/lib/python3.7/site-packages/optuna/study/_optimize.py\", line 213, in _run_trial\n",
      "    value_or_values = func(trial)\n",
      "  File \"/home/datascience/conda/generalml_p37_gpu_v1/lib/python3.7/site-packages/ads/hpo/search_cv.py\", line 1162, in <lambda>\n",
      "    objective_func = lambda trial: objective(X_res, y_res, trial)\n",
      "  File \"/home/datascience/conda/generalml_p37_gpu_v1/lib/python3.7/site-packages/ads/hpo/objective.py\", line 135, in __call__\n",
      "    scoring=self.scoring,\n",
      "  File \"/home/datascience/conda/generalml_p37_gpu_v1/lib/python3.7/site-packages/sklearn/model_selection/_validation.py\", line 283, in cross_validate\n",
      "    for train, test in cv.split(X, y, groups)\n",
      "  File \"/home/datascience/conda/generalml_p37_gpu_v1/lib/python3.7/site-packages/joblib/parallel.py\", line 1046, in __call__\n",
      "    while self.dispatch_one_batch(iterator):\n",
      "  File \"/home/datascience/conda/generalml_p37_gpu_v1/lib/python3.7/site-packages/joblib/parallel.py\", line 861, in dispatch_one_batch\n",
      "    self._dispatch(tasks)\n",
      "  File \"/home/datascience/conda/generalml_p37_gpu_v1/lib/python3.7/site-packages/joblib/parallel.py\", line 779, in _dispatch\n",
      "    job = self._backend.apply_async(batch, callback=cb)\n",
      "  File \"/home/datascience/conda/generalml_p37_gpu_v1/lib/python3.7/site-packages/joblib/_parallel_backends.py\", line 208, in apply_async\n",
      "    result = ImmediateResult(func)\n",
      "  File \"/home/datascience/conda/generalml_p37_gpu_v1/lib/python3.7/site-packages/joblib/_parallel_backends.py\", line 572, in __init__\n",
      "    self.results = batch()\n",
      "  File \"/home/datascience/conda/generalml_p37_gpu_v1/lib/python3.7/site-packages/joblib/parallel.py\", line 263, in __call__\n",
      "    for func, args, kwargs in self.items]\n",
      "  File \"/home/datascience/conda/generalml_p37_gpu_v1/lib/python3.7/site-packages/joblib/parallel.py\", line 263, in <listcomp>\n",
      "    for func, args, kwargs in self.items]\n",
      "  File \"/home/datascience/conda/generalml_p37_gpu_v1/lib/python3.7/site-packages/sklearn/utils/fixes.py\", line 216, in __call__\n",
      "    return self.function(*args, **kwargs)\n",
      "  File \"/home/datascience/conda/generalml_p37_gpu_v1/lib/python3.7/site-packages/sklearn/model_selection/_validation.py\", line 680, in _fit_and_score\n",
      "    estimator.fit(X_train, y_train, **fit_params)\n",
      "  File \"/home/datascience/conda/generalml_p37_gpu_v1/lib/python3.7/site-packages/xgboost/core.py\", line 506, in inner_f\n",
      "    return f(**kwargs)\n",
      "  File \"/home/datascience/conda/generalml_p37_gpu_v1/lib/python3.7/site-packages/xgboost/sklearn.py\", line 1261, in fit\n",
      "    callbacks=callbacks,\n",
      "  File \"/home/datascience/conda/generalml_p37_gpu_v1/lib/python3.7/site-packages/xgboost/training.py\", line 196, in train\n",
      "    early_stopping_rounds=early_stopping_rounds)\n",
      "  File \"/home/datascience/conda/generalml_p37_gpu_v1/lib/python3.7/site-packages/xgboost/training.py\", line 81, in _train_internal\n",
      "    bst.update(dtrain, i, obj)\n",
      "  File \"/home/datascience/conda/generalml_p37_gpu_v1/lib/python3.7/site-packages/xgboost/core.py\", line 1682, in update\n",
      "    dtrain.handle))\n",
      "KeyboardInterrupt\n"
     ]
    }
   ],
   "source": [
    "clf = XGBClassifier(random_state=0)\n",
    "\n",
    "tuner = ADSTuner(clf, cv=5)\n",
    "\n",
    "# execution by default is async\n",
    "tuner.tune(X_train, y_train, exit_criterion=[TimeBudget(120)])"
   ]
  },
  {
   "cell_type": "code",
   "execution_count": 36,
   "id": "59ec9c78",
   "metadata": {},
   "outputs": [
    {
     "data": {
      "text/html": [
       "<div>\n",
       "<style scoped>\n",
       "    .dataframe tbody tr th:only-of-type {\n",
       "        vertical-align: middle;\n",
       "    }\n",
       "\n",
       "    .dataframe tbody tr th {\n",
       "        vertical-align: top;\n",
       "    }\n",
       "\n",
       "    .dataframe thead th {\n",
       "        text-align: right;\n",
       "    }\n",
       "</style>\n",
       "<table border=\"1\" class=\"dataframe\">\n",
       "  <thead>\n",
       "    <tr style=\"text-align: right;\">\n",
       "      <th></th>\n",
       "      <th>number</th>\n",
       "      <th>value</th>\n",
       "      <th>datetime_start</th>\n",
       "      <th>datetime_complete</th>\n",
       "      <th>duration</th>\n",
       "      <th>params_colsample_bytree</th>\n",
       "      <th>params_learning_rate</th>\n",
       "      <th>params_max_depth</th>\n",
       "      <th>params_n_estimators</th>\n",
       "      <th>params_subsample</th>\n",
       "      <th>...</th>\n",
       "      <th>user_attrs_metric</th>\n",
       "      <th>user_attrs_split0_test_score</th>\n",
       "      <th>user_attrs_split1_test_score</th>\n",
       "      <th>user_attrs_split2_test_score</th>\n",
       "      <th>user_attrs_split3_test_score</th>\n",
       "      <th>user_attrs_split4_test_score</th>\n",
       "      <th>user_attrs_std_fit_time</th>\n",
       "      <th>user_attrs_std_score_time</th>\n",
       "      <th>user_attrs_std_test_score</th>\n",
       "      <th>state</th>\n",
       "    </tr>\n",
       "  </thead>\n",
       "  <tbody>\n",
       "    <tr>\n",
       "      <th>0</th>\n",
       "      <td>0</td>\n",
       "      <td>0.896703</td>\n",
       "      <td>2022-02-22 15:42:04.928097</td>\n",
       "      <td>2022-02-22 15:42:26.709586</td>\n",
       "      <td>0 days 00:00:21.781489</td>\n",
       "      <td>0.727773</td>\n",
       "      <td>0.308248</td>\n",
       "      <td>2</td>\n",
       "      <td>69</td>\n",
       "      <td>0.655070</td>\n",
       "      <td>...</td>\n",
       "      <td>mean accuracy</td>\n",
       "      <td>0.868132</td>\n",
       "      <td>0.879121</td>\n",
       "      <td>0.945055</td>\n",
       "      <td>0.868132</td>\n",
       "      <td>0.923077</td>\n",
       "      <td>0.061482</td>\n",
       "      <td>0.000490</td>\n",
       "      <td>0.031544</td>\n",
       "      <td>COMPLETE</td>\n",
       "    </tr>\n",
       "    <tr>\n",
       "      <th>1</th>\n",
       "      <td>1</td>\n",
       "      <td>0.901099</td>\n",
       "      <td>2022-02-22 15:42:26.728831</td>\n",
       "      <td>2022-02-22 15:42:36.828191</td>\n",
       "      <td>0 days 00:00:10.099360</td>\n",
       "      <td>0.726662</td>\n",
       "      <td>0.349787</td>\n",
       "      <td>1</td>\n",
       "      <td>50</td>\n",
       "      <td>0.534476</td>\n",
       "      <td>...</td>\n",
       "      <td>mean accuracy</td>\n",
       "      <td>0.868132</td>\n",
       "      <td>0.890110</td>\n",
       "      <td>0.934066</td>\n",
       "      <td>0.912088</td>\n",
       "      <td>0.901099</td>\n",
       "      <td>0.017594</td>\n",
       "      <td>0.001597</td>\n",
       "      <td>0.021978</td>\n",
       "      <td>COMPLETE</td>\n",
       "    </tr>\n",
       "    <tr>\n",
       "      <th>2</th>\n",
       "      <td>2</td>\n",
       "      <td>0.896703</td>\n",
       "      <td>2022-02-22 15:42:36.845163</td>\n",
       "      <td>2022-02-22 15:43:23.008291</td>\n",
       "      <td>0 days 00:00:46.163128</td>\n",
       "      <td>0.654510</td>\n",
       "      <td>0.388539</td>\n",
       "      <td>1</td>\n",
       "      <td>235</td>\n",
       "      <td>0.901585</td>\n",
       "      <td>...</td>\n",
       "      <td>mean accuracy</td>\n",
       "      <td>0.879121</td>\n",
       "      <td>0.879121</td>\n",
       "      <td>0.945055</td>\n",
       "      <td>0.890110</td>\n",
       "      <td>0.890110</td>\n",
       "      <td>0.095291</td>\n",
       "      <td>0.000440</td>\n",
       "      <td>0.024670</td>\n",
       "      <td>COMPLETE</td>\n",
       "    </tr>\n",
       "    <tr>\n",
       "      <th>3</th>\n",
       "      <td>3</td>\n",
       "      <td>NaN</td>\n",
       "      <td>2022-02-22 15:43:23.022073</td>\n",
       "      <td>NaT</td>\n",
       "      <td>NaT</td>\n",
       "      <td>0.794523</td>\n",
       "      <td>0.377508</td>\n",
       "      <td>1</td>\n",
       "      <td>180</td>\n",
       "      <td>0.807708</td>\n",
       "      <td>...</td>\n",
       "      <td>NaN</td>\n",
       "      <td>NaN</td>\n",
       "      <td>NaN</td>\n",
       "      <td>NaN</td>\n",
       "      <td>NaN</td>\n",
       "      <td>NaN</td>\n",
       "      <td>NaN</td>\n",
       "      <td>NaN</td>\n",
       "      <td>NaN</td>\n",
       "      <td>RUNNING</td>\n",
       "    </tr>\n",
       "  </tbody>\n",
       "</table>\n",
       "<p>4 rows × 23 columns</p>\n",
       "</div>"
      ],
      "text/plain": [
       "   number     value             datetime_start          datetime_complete  \\\n",
       "0       0  0.896703 2022-02-22 15:42:04.928097 2022-02-22 15:42:26.709586   \n",
       "1       1  0.901099 2022-02-22 15:42:26.728831 2022-02-22 15:42:36.828191   \n",
       "2       2  0.896703 2022-02-22 15:42:36.845163 2022-02-22 15:43:23.008291   \n",
       "3       3       NaN 2022-02-22 15:43:23.022073                        NaT   \n",
       "\n",
       "                duration  params_colsample_bytree  params_learning_rate  \\\n",
       "0 0 days 00:00:21.781489                 0.727773              0.308248   \n",
       "1 0 days 00:00:10.099360                 0.726662              0.349787   \n",
       "2 0 days 00:00:46.163128                 0.654510              0.388539   \n",
       "3                    NaT                 0.794523              0.377508   \n",
       "\n",
       "   params_max_depth  params_n_estimators  params_subsample  ...  \\\n",
       "0                 2                   69          0.655070  ...   \n",
       "1                 1                   50          0.534476  ...   \n",
       "2                 1                  235          0.901585  ...   \n",
       "3                 1                  180          0.807708  ...   \n",
       "\n",
       "   user_attrs_metric  user_attrs_split0_test_score  \\\n",
       "0      mean accuracy                      0.868132   \n",
       "1      mean accuracy                      0.868132   \n",
       "2      mean accuracy                      0.879121   \n",
       "3                NaN                           NaN   \n",
       "\n",
       "   user_attrs_split1_test_score user_attrs_split2_test_score  \\\n",
       "0                      0.879121                     0.945055   \n",
       "1                      0.890110                     0.934066   \n",
       "2                      0.879121                     0.945055   \n",
       "3                           NaN                          NaN   \n",
       "\n",
       "   user_attrs_split3_test_score  user_attrs_split4_test_score  \\\n",
       "0                      0.868132                      0.923077   \n",
       "1                      0.912088                      0.901099   \n",
       "2                      0.890110                      0.890110   \n",
       "3                           NaN                           NaN   \n",
       "\n",
       "   user_attrs_std_fit_time  user_attrs_std_score_time  \\\n",
       "0                 0.061482                   0.000490   \n",
       "1                 0.017594                   0.001597   \n",
       "2                 0.095291                   0.000440   \n",
       "3                      NaN                        NaN   \n",
       "\n",
       "   user_attrs_std_test_score     state  \n",
       "0                   0.031544  COMPLETE  \n",
       "1                   0.021978  COMPLETE  \n",
       "2                   0.024670  COMPLETE  \n",
       "3                        NaN   RUNNING  \n",
       "\n",
       "[4 rows x 23 columns]"
      ]
     },
     "execution_count": 36,
     "metadata": {},
     "output_type": "execute_result"
    }
   ],
   "source": [
    "# this is a Pandas DataFrame\n",
    "tuner.trials.head(20)"
   ]
  },
  {
   "cell_type": "code",
   "execution_count": 37,
   "id": "94046d1d",
   "metadata": {},
   "outputs": [
    {
     "data": {
      "text/plain": [
       "0.9010989010989011"
      ]
     },
     "execution_count": 37,
     "metadata": {},
     "output_type": "execute_result"
    }
   ],
   "source": [
    "tuner.best_score"
   ]
  },
  {
   "cell_type": "code",
   "execution_count": 38,
   "id": "ff834696",
   "metadata": {},
   "outputs": [
    {
     "data": {
      "text/plain": [
       "{'colsample_bytree': 0.7266615284359348,\n",
       " 'learning_rate': 0.3497865284853692,\n",
       " 'max_depth': 1,\n",
       " 'n_estimators': 50,\n",
       " 'subsample': 0.534475598133012}"
      ]
     },
     "execution_count": 38,
     "metadata": {},
     "output_type": "execute_result"
    }
   ],
   "source": [
    "# we have not specified a strategy. If we want to limit the parameters we're changing... we need a strategy\n",
    "tuner.best_params"
   ]
  },
  {
   "cell_type": "code",
   "execution_count": 39,
   "id": "cacaa702",
   "metadata": {},
   "outputs": [
    {
     "data": {
      "image/png": "[encoded data removed]",
      "text/plain": [
       "<Figure size 432x288 with 1 Axes>"
      ]
     },
     "metadata": {},
     "output_type": "display_data"
    }
   ],
   "source": [
    "# il plot è aggiornato in maniera asincrona\n",
    "tuner.plot_best_scores()"
   ]
  },
  {
   "cell_type": "code",
   "execution_count": 40,
   "id": "81ee8e7a",
   "metadata": {},
   "outputs": [
    {
     "data": {
      "text/plain": [
       "{'colsample_bytree': UniformDistribution(low=0.6, high=0.8),\n",
       " 'learning_rate': LogUniformDistribution(low=0.3, high=0.4),\n",
       " 'max_depth': IntUniformDistribution(low=1, high=5, step=1),\n",
       " 'n_estimators': IntUniformDistribution(low=50, high=250, step=1),\n",
       " 'subsample': UniformDistribution(low=0.5, high=1)}"
      ]
     },
     "execution_count": 40,
     "metadata": {},
     "output_type": "execute_result"
    }
   ],
   "source": [
    "tuner.search_space()"
   ]
  },
  {
   "cell_type": "code",
   "execution_count": 41,
   "id": "73c9b3b8",
   "metadata": {},
   "outputs": [
    {
     "data": {
      "text/plain": [
       "'mean accuracy'"
      ]
     },
     "execution_count": 41,
     "metadata": {},
     "output_type": "execute_result"
    }
   ],
   "source": [
    "tuner.scoring_name"
   ]
  },
  {
   "cell_type": "code",
   "execution_count": null,
   "id": "e3d15dc8",
   "metadata": {},
   "outputs": [],
   "source": []
  }
 ],
 "metadata": {
  "kernelspec": {
   "display_name": "Python [conda env:generalml_p37_gpu_v1]",
   "language": "python",
   "name": "conda-env-generalml_p37_gpu_v1-py"
  },
  "language_info": {
   "codemirror_mode": {
    "name": "ipython",
    "version": 3
   },
   "file_extension": ".py",
   "mimetype": "text/x-python",
   "name": "python",
   "nbconvert_exporter": "python",
   "pygments_lexer": "ipython3",
   "version": "3.7.12"
  }
 },
 "nbformat": 4,
 "nbformat_minor": 5
}
